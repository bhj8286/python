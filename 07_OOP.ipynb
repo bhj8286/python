{
 "cells": [
  {
   "cell_type": "markdown",
   "id": "e6d3e965-8883-4ebe-aec7-e1eed64b3d4f",
   "metadata": {},
   "source": [
    "## 객체지향 프로그래밍(OOP)\n",
    "\n",
    "- 클래스(class) : 같은 종류의 집단에 속하는 속성(attribute)과 행위(method)를 **정의**한 것\n",
    "- 인스턴스(instance) : 클래스를 실제로 메모리상에 할당한 것\n",
    "- 속성(attribute): 클래스/인스턴스가 가지고있는 **데이터**/값\n",
    "- 행위(method): 클래스/인스턴스가 가지고 있는 **함수**/기능 (클래스안의 함수)"
   ]
  },
  {
   "cell_type": "code",
   "execution_count": null,
   "id": "db004941-056f-4e7f-9979-34994bd17a01",
   "metadata": {},
   "outputs": [],
   "source": [
    "number = 1 + 1j"
   ]
  },
  {
   "cell_type": "code",
   "execution_count": null,
   "id": "a88e5498-0bea-4871-bdf8-eec7dc6f8396",
   "metadata": {},
   "outputs": [],
   "source": [
    "type(number)"
   ]
  },
  {
   "cell_type": "code",
   "execution_count": null,
   "id": "9f4cc4e9-d6f3-41a8-acf4-7e53514135f5",
   "metadata": {},
   "outputs": [],
   "source": [
    "print(number.real)\n",
    "print(number.imag)"
   ]
  },
  {
   "cell_type": "code",
   "execution_count": null,
   "id": "5f6a01bd-496f-4b15-96f1-1648db2875c0",
   "metadata": {},
   "outputs": [],
   "source": [
    "my_list = [1, 2, 3, 4]\n",
    "print(type(my_list))\n",
    "my_list.reverse()\n",
    "print(my_list)"
   ]
  },
  {
   "cell_type": "code",
   "execution_count": null,
   "id": "d463646d-95dc-43ad-8363-0e13cd089c57",
   "metadata": {},
   "outputs": [],
   "source": [
    "power = False                               ##데이터\n",
    "number = '010-1234-1234'\n",
    "book = {\n",
    "    '홍길동' : '010-1111-1111',\n",
    "    '이순신' : '010-2222-2222',\n",
    "}\n",
    "\n",
    "def on():                                  ##함수\n",
    "    global power\n",
    "    if power == False:\n",
    "        power = True\n",
    "        print('핸드폰이 켜졌습니다.')\n",
    "on()"
   ]
  },
  {
   "cell_type": "markdown",
   "id": "2cee566e-8b7c-44ae-8b35-e1b2f2eead29",
   "metadata": {},
   "source": [
    "## Class\n",
    "\n",
    "- 클래스 선언\n",
    "```python\n",
    "class ClassName:\n",
    "    attribue = value\n",
    "\n",
    "    def method_name(self):\n",
    "        code\n",
    "```\n",
    "\n",
    "- 인스턴스화                     =실행\n",
    "\n",
    "```python\n",
    "ClasssName()\n",
    "```"
   ]
  },
  {
   "cell_type": "code",
   "execution_count": null,
   "id": "18ce0b76-9596-467d-8b5e-ea390f650598",
   "metadata": {},
   "outputs": [],
   "source": [
    "# 선언 \n",
    "class MyClass:\n",
    "    name = 'kim'\n",
    "\n",
    "    def hello(self):\n",
    "        return 'hello'"
   ]
  },
  {
   "cell_type": "code",
   "execution_count": null,
   "id": "85a59b62-7a2e-4970-9f83-9f9a62332a3e",
   "metadata": {},
   "outputs": [],
   "source": [
    "#인스턴스화\n",
    "a = MyClass()\n",
    "print(type(a))\n",
    "\n",
    "print(a.name)\n",
    "print(a.hello())\n",
    "\n",
    "b = MyClass()\n",
    "b.name = 'park'\n",
    "print(b.name)\n",
    "print(b.hello())"
   ]
  },
  {
   "cell_type": "code",
   "execution_count": null,
   "id": "42433ef8-542f-4d3b-99f6-e78ddc772dbd",
   "metadata": {},
   "outputs": [],
   "source": [
    "class Phone:\n",
    "    power = False\n",
    "    number = '010-0000-0000'\n",
    "    book = {}\n",
    "    model = ''\n",
    "\n",
    "    def on(self):\n",
    "        if self.power == False:\n",
    "            self.power = True\n",
    "    def off(self):\n",
    "        if self.power == True:\n",
    "            self.power = False\n",
    "    def call(self, target):\n",
    "        if self.power == True:\n",
    "            print(f'제 번호는 {self.number}입니다.')\n",
    "            print(f'{target}로 전화거는 중')\n",
    "        else:\n",
    "            print('핸드폰을 켜주세요')\n",
    "        "
   ]
  },
  {
   "cell_type": "code",
   "execution_count": null,
   "id": "1199fc8f-d091-4ded-b807-e28680563b3b",
   "metadata": {},
   "outputs": [],
   "source": [
    "my_phone = Phone()\n",
    "your_phone = Phone()"
   ]
  },
  {
   "cell_type": "code",
   "execution_count": null,
   "id": "60686c26-20aa-4f73-8506-07187180b3a9",
   "metadata": {},
   "outputs": [],
   "source": [
    "my_phone.number = '010-1234-1234'\n",
    "print(my_phone.number)"
   ]
  },
  {
   "cell_type": "code",
   "execution_count": null,
   "id": "f889b05e-46c3-499c-afbd-0c60bbf3f695",
   "metadata": {},
   "outputs": [],
   "source": [
    "print(your_phone.number)"
   ]
  },
  {
   "cell_type": "code",
   "execution_count": null,
   "id": "a2696449-da21-41d0-87d1-cc9e5fc6f1c6",
   "metadata": {},
   "outputs": [],
   "source": [
    "my_phone.on() # = my_phone.on(my_phone)\n",
    "print(my_phone.power)\n",
    "print(your_phone.power)\n",
    "\n",
    "my_phone.off()\n",
    "print(my_phone.power)"
   ]
  },
  {
   "cell_type": "code",
   "execution_count": null,
   "id": "688ea9d6-424d-448e-8164-cd36d5eb44f2",
   "metadata": {},
   "outputs": [],
   "source": [
    "my_phone.on()\n",
    "my_phone.call('112')\n",
    "\n",
    "your_phone.on()\n",
    "your_phone.call('114')"
   ]
  },
  {
   "cell_type": "code",
   "execution_count": null,
   "id": "40897558-3853-4eaa-8c25-ec35356d8fc2",
   "metadata": {},
   "outputs": [],
   "source": [
    "# 연습\n",
    "class MyList:\n",
    "    data = []\n",
    "\n",
    "    def append(self, item):\n",
    "        self.data = self.data + [item]\n",
    "\n",
    "\n",
    "    \n",
    "    def pop(self):\n",
    "        self.data = self.data[:-1]"
   ]
  },
  {
   "cell_type": "code",
   "execution_count": null,
   "id": "3d55cb9c-be15-4884-9194-7a54b5c60bfd",
   "metadata": {},
   "outputs": [],
   "source": [
    "list_a = MyList()"
   ]
  },
  {
   "cell_type": "code",
   "execution_count": null,
   "id": "def3b91c-ec64-4874-aa53-8dc241cb1b0e",
   "metadata": {},
   "outputs": [],
   "source": [
    "print(list_a.data)"
   ]
  },
  {
   "cell_type": "code",
   "execution_count": null,
   "id": "44239358-494a-483a-ab14-19079b65d81d",
   "metadata": {},
   "outputs": [],
   "source": [
    "list_a = MyList()\n",
    "print(list_a.data) # -> []\n",
    "list_a.append(5) # -> [5]\n",
    "print(list_a.data)\n",
    "list_a.append(10) # => [5,10]\n",
    "print(list_a.data)\n",
    "\n",
    "list_a.pop() # -> [5]\n",
    "print(list_a.data)"
   ]
  },
  {
   "cell_type": "code",
   "execution_count": null,
   "id": "cdc5a648-8329-4ef4-aece-d97c6ffe8a7f",
   "metadata": {},
   "outputs": [],
   "source": [
    "list_b = MyList()\n",
    "list_b.append('일')\n",
    "list_b.append('이')\n",
    "list_b.append('삼')      \n",
    "print(list_b.data)"
   ]
  },
  {
   "cell_type": "markdown",
   "id": "8377541b-1fad-491e-9c51-662c1bcaff04",
   "metadata": {},
   "source": [
    "## 생성자, 소멸자\n",
    "\n",
    "```python\n",
    "class MyClass:\n",
    "\n",
    "    def __init__(self):\n",
    "        pass\n",
    "    def __del__(self):\n",
    "        pass\n",
    "```"
   ]
  },
  {
   "cell_type": "code",
   "execution_count": null,
   "id": "c2740ccd-9457-4281-a67f-9f9ead4e567f",
   "metadata": {},
   "outputs": [],
   "source": [
    "class Person:\n",
    "    name = 'noname'\n",
    "    \n",
    "    def __init__(self, name='익명'):\n",
    "        self.name = name\n",
    "        print('생성됨')\n",
    "    def __del__(self):\n",
    "        print('소멸됨')"
   ]
  },
  {
   "cell_type": "code",
   "execution_count": null,
   "id": "e7cf1833-5b2c-4a8c-90ea-17dfa1a5fbb8",
   "metadata": {},
   "outputs": [],
   "source": [
    "p1 = Person('kim') # = Person.__init__('kim')\n",
    "print(p1)\n",
    "print(p1.name)\n",
    "\n",
    "p2 = Person('park')\n",
    "print(p2.name)\n",
    "\n",
    "p3 = Person()\n",
    "print(p3.name)\n",
    "\n",
    "print(Person.name)\n",
    "\n",
    "p1.phone = '010-1234-1234'\n",
    "print(p1.phone)"
   ]
  },
  {
   "cell_type": "code",
   "execution_count": null,
   "id": "f7a2f35d-c792-41fc-b5f8-59ebc2fc330c",
   "metadata": {},
   "outputs": [],
   "source": [
    "del p1"
   ]
  },
  {
   "cell_type": "code",
   "execution_count": null,
   "id": "cb677cc9-219b-4f94-886b-e74d70597cdd",
   "metadata": {},
   "outputs": [],
   "source": [
    "print(p1)"
   ]
  },
  {
   "cell_type": "code",
   "execution_count": null,
   "id": "8d477738-59a7-4922-93ae-0e81268c6e2e",
   "metadata": {},
   "outputs": [],
   "source": [
    "#Circle\n",
    "\n",
    "class Circle:\n",
    "    pi = 3.14\n",
    "\n",
    "    def __init__(self, r, x=0, y=0):\n",
    "        self.r = r\n",
    "        self.x = x\n",
    "        self.y = y\n",
    "\n",
    "    def area(self):\n",
    "        return self.pi * self.r **2\n",
    "        \n",
    "    def move(self, x, y):\n",
    "        self.x = x \n",
    "        self.y = y\n",
    "        print(f'원의 중심이{self.x}, {self.y}로 이동했습니다.')   #return none이 보이진 않지만 있음\n",
    "    \n",
    "    def center(self):\n",
    "        return (self.x, self.y)\n",
    "    \n",
    "    def round(self):\n",
    "        return self.r * self.pi * 2"
   ]
  },
  {
   "cell_type": "code",
   "execution_count": null,
   "id": "d9c42a3b-b2c1-40a3-937d-69c3aadebe8d",
   "metadata": {},
   "outputs": [],
   "source": [
    "c1 = Circle(3, 5, 5)\n",
    "print(c1.x)\n",
    "print(c1.area())\n",
    "c1.move(0, 0)  ##print문이 작성되어있기때문에 print를 붙이지 않은 것, 파이썬에선 붙여줘야함\n",
    "\n",
    "c2 = Circle(10, 0, 0)\n",
    "print(c2.r)\n",
    "print(c2.area())\n",
    "c2.move(10, 10)\n",
    "print(c2.center())\n",
    "\n",
    "c3 = Circle(5)\n",
    "print(c3.center())\n",
    "print(c3.round())"
   ]
  },
  {
   "cell_type": "code",
   "execution_count": null,
   "id": "eaf84bad-baf4-4e16-92ac-b95c5281baa6",
   "metadata": {},
   "outputs": [],
   "source": [
    "# Point\n",
    "class Point:\n",
    "    def __init__(self, x, y):\n",
    "        self.x = x\n",
    "        self.y = y\n",
    "    def info(self):\n",
    "        return (self.x, self.y)\n",
    "\n",
    "    \n",
    "#Circle\n",
    "class Circle:\n",
    "    def __init__(self,point, r):\n",
    "        self.point = point\n",
    "        self.r = r\n",
    "        \n",
    "    def info(self):\n",
    "        return (self.point.x, self.point.y, self.r)\n",
    "        \n",
    "    def move(self, x, y):\n",
    "        self.point.x = x\n",
    "        self.point.y = y"
   ]
  },
  {
   "cell_type": "code",
   "execution_count": null,
   "id": "9d922c4d-7d59-4e91-9e97-9a20e0ba0246",
   "metadata": {},
   "outputs": [],
   "source": [
    "p1 = Point(3,3)\n",
    "print(p1.info())\n",
    "\n",
    "c1 = Circle(p1, 10)\n",
    "print(c1.point.info())\n",
    "print(c1.info())\n",
    "c1.move(5, 5)\n",
    "print(p1.info())\n",
    "print(c1.info())\n"
   ]
  },
  {
   "cell_type": "code",
   "execution_count": null,
   "id": "3c57c149-6a92-4194-aa0b-dfe59e2eff78",
   "metadata": {},
   "outputs": [],
   "source": [
    "c2 = Circle(p1, 5)\n",
    "(c2.info())"
   ]
  },
  {
   "cell_type": "markdown",
   "id": "ac618f82-001d-4d4f-92f4-2a3b38cc50d1",
   "metadata": {},
   "source": [
    "### 클래스 변수\n",
    "- 클래스 선언 블록 최상단에 위치\n",
    "  \n",
    "### 인스턴스 변수\n",
    "- 인스턴스 내부레서 생성한 변수(`self.variable = `)\n",
    "\n",
    "```python\n",
    "class MyClass:\n",
    "    class_variable = '클래스변수'\n",
    "\n",
    "    def __init__(self, name):\n",
    "    self.instance_variable = '인스턴스 변수'\n",
    "```"
   ]
  },
  {
   "cell_type": "code",
   "execution_count": null,
   "id": "bfa7e949-1ed9-423f-b20f-0eb63d77a6b8",
   "metadata": {},
   "outputs": [],
   "source": [
    "class Person:\n",
    "    name = '홍길동'\n",
    "    phone = '010-2222-2222'\n",
    "\n",
    "    def __init__(self, name):\n",
    "        self.name = name"
   ]
  },
  {
   "cell_type": "code",
   "execution_count": null,
   "id": "871b0bd8-53a2-45c3-9c55-0c151d92a888",
   "metadata": {},
   "outputs": [],
   "source": [
    "p1 = Person('배호진')\n",
    "print(p1.name)\n",
    "print(Person.name)\n",
    "\n",
    "print(p1.phone) # 자식은 부모데이터에 접근 가능, 부모는 자식데이터에 접근 불가능"
   ]
  },
  {
   "cell_type": "markdown",
   "id": "9905475c-ac21-4495-a3c7-1029e36d371c",
   "metadata": {},
   "source": [
    "### 클래스메소드, 인스턴스메소드, 스테틱메소드\n",
    "\n",
    "```python\n",
    "class MyClass:\n",
    "    def instance_method(self):\n",
    "        pass\n",
    "\n",
    "    @classmethod\n",
    "    def class_method(cls):\n",
    "        pass\n",
    "    @staticmethod\n",
    "    def static_method():\n",
    "        pass\n",
    "```"
   ]
  },
  {
   "cell_type": "code",
   "execution_count": null,
   "id": "0012ea06-1942-48a9-b3d1-f6621817f5c9",
   "metadata": {},
   "outputs": [],
   "source": [
    "class MyClass:\n",
    "    def instance_method(self):\n",
    "        return self\n",
    "\n",
    "    @classmethod\n",
    "    def class_method(cls):\n",
    "        return cls\n",
    "    @staticmethod\n",
    "    def static_method():\n",
    "        return 'hello'"
   ]
  },
  {
   "cell_type": "code",
   "execution_count": null,
   "id": "75e84a4d-fb7a-4261-a909-49386bb30ce2",
   "metadata": {},
   "outputs": [],
   "source": [
    "c = MyClass()\n",
    "\n",
    "print(c.instance_method())\n",
    "print(c.class_method())\n",
    "print(MyClass.class_method())\n",
    "print(c.static_method())"
   ]
  },
  {
   "cell_type": "code",
   "execution_count": null,
   "id": "62ad4787-5811-4141-80cf-d8ad61366f4a",
   "metadata": {},
   "outputs": [],
   "source": [
    "class Puppy:\n",
    "    num_of_puppy = 0\n",
    "    \n",
    "    def __init__(self, name):\n",
    "        self.name = name\n",
    "        Puppy.num_of_puppy += 1\n",
    "\n",
    "    @classmethod\n",
    "    def get_status(cls):\n",
    "        print(f'현재 강아지는 {cls.num_of_puppy}마리입니다.')\n",
    "\n",
    "    @staticmethod\n",
    "    def bark(msg):\n",
    "        return msg\n",
    "        \n",
    "    def bark2(self, msg):\n",
    "        return f'{self.name}은 {msg}합니다'"
   ]
  },
  {
   "cell_type": "code",
   "execution_count": null,
   "id": "1d468451-f363-491a-8275-af3c1b5605ae",
   "metadata": {},
   "outputs": [],
   "source": [
    "p1 = Puppy('쿠키')\n",
    "p2 = Puppy('만두')\n",
    "p3 = Puppy('뽀삐')\n",
    "\n",
    "print(Puppy.num_of_puppy)\n",
    "\n",
    "Puppy.get_status()\n",
    "p1.get_status()\n",
    "\n",
    "print(p1.bark('멍멍'))\n",
    "print(p2.bark('왈왈'))\n",
    "\n",
    "print(p1.bark2('멍멍'))"
   ]
  },
  {
   "cell_type": "markdown",
   "id": "ccb85dbf-d19b-44e5-a716-a3fd5d5b1a86",
   "metadata": {},
   "source": [
    "## 상속"
   ]
  },
  {
   "cell_type": "code",
   "execution_count": null,
   "id": "109ed632-9749-411d-bbd8-e4f5aae99876",
   "metadata": {},
   "outputs": [],
   "source": [
    "class Person:\n",
    "\n",
    "    def __init__(self, name):\n",
    "        self.name = name\n",
    "\n",
    "    def greeting(self):\n",
    "        print(f'안녕하세요, {self.name}입니다.')"
   ]
  },
  {
   "cell_type": "code",
   "execution_count": null,
   "id": "f467f1a3-6cb9-45b7-aee8-5e169aea440f",
   "metadata": {},
   "outputs": [],
   "source": [
    "p1 = Person('홍길동')\n",
    "p2 = Person('이순신')\n",
    "\n",
    "p1.greeting()"
   ]
  },
  {
   "cell_type": "code",
   "execution_count": null,
   "id": "c43ebbab-7982-446e-a1cc-d1ebf137cd1d",
   "metadata": {},
   "outputs": [],
   "source": [
    "class Student:\n",
    "    def __init__(self, name, student_id):\n",
    "        self.name = name\n",
    "        self.student_id = student_id\n",
    "    def greeting(self):\n",
    "        print(f'안녕하세요. {self.name}입니다.')"
   ]
  },
  {
   "cell_type": "code",
   "execution_count": null,
   "id": "ae4dfd19-042c-498f-8fac-2b949fe4f0a5",
   "metadata": {},
   "outputs": [],
   "source": [
    "s1 = Student('배호진', '123123')\n",
    "s1.greeting()"
   ]
  },
  {
   "cell_type": "code",
   "execution_count": null,
   "id": "ac56ad3d-0c7c-4c4a-9ad6-5b5f19a94021",
   "metadata": {},
   "outputs": [],
   "source": [
    "class Soilder:\n",
    "    def __init__(self, name, soilder_id):\n",
    "        self.name = name\n",
    "        self.soilder_id = soilder_id\n",
    "    def greeting(self):\n",
    "        print(f'단결. {self.name}입니다.') "
   ]
  },
  {
   "cell_type": "code",
   "execution_count": null,
   "id": "8df2187a-b760-4c0c-92de-fd5680619a5b",
   "metadata": {},
   "outputs": [],
   "source": [
    "s2 = Soilder('굳건이', '20-71602834')\n",
    "s2.greeting()"
   ]
  },
  {
   "cell_type": "code",
   "execution_count": null,
   "id": "92c56463-589f-4c85-b8de-46cf2a2370b3",
   "metadata": {},
   "outputs": [],
   "source": []
  },
  {
   "cell_type": "code",
   "execution_count": null,
   "id": "540c8554-d418-4a9b-9ee1-dcc811e116d0",
   "metadata": {},
   "outputs": [],
   "source": [
    "class Student(Person):\n",
    "    # def __init__(self, name):\n",
    "    #     self.name = name\n",
    "\n",
    "    # def greeting(self):\n",
    "    #     print(f'안녕하세요, {self.name}입니다.')    을 상속받음\n",
    "    def __init__(self, name, student_id): # --> 같은 이름의 함수라면 자식의 함수 우선순위가 더 높음, 없다면 부모 클래스(person)에서 찾음\n",
    "        self.name = name\n",
    "        self.student_id = student_id         "
   ]
  },
  {
   "cell_type": "code",
   "execution_count": null,
   "id": "f117b885-ddc1-45c9-8c0c-e7b70582fc67",
   "metadata": {},
   "outputs": [],
   "source": [
    "s1 = Student('배호진', '123123')\n",
    "s1.greeting()"
   ]
  },
  {
   "cell_type": "code",
   "execution_count": null,
   "id": "4528de10-af6c-48d7-bdb4-433d3d8c73ae",
   "metadata": {},
   "outputs": [],
   "source": [
    "class Soilder(Person):\n",
    "    def __init__(self, name, soilder_id):\n",
    "        self.name = name\n",
    "        self.soilder_id = soilder_id\n",
    "\n",
    "    def greeting(self):\n",
    "        print(f'단결 {self.name}입니다.')"
   ]
  },
  {
   "cell_type": "code",
   "execution_count": null,
   "id": "28b42da5-5a9a-455d-a411-47ed2473a5f4",
   "metadata": {},
   "outputs": [],
   "source": [
    "class Person:\n",
    "    def __init__(self, name, email, phone, location):\n",
    "        self.name = name\n",
    "        self.email = email\n",
    "        self.phone = phone\n",
    "        self.location = location\n",
    "\n",
    "class Student(Person):\n",
    "    def __init__(self, name, email, phone, location, student_id ):\n",
    "        self.name = name\n",
    "        self.email = email\n",
    "        self.phone = phone\n",
    "        self.location = location\n",
    "        self.student_id = student_id\n",
    "\n",
    "\n",
    "class Soilde(Person):\n",
    "    def __init__(self, name, email, phone, location, soilder_id):\n",
    "        super().__init__(name, email, phone, location) # super() =>Person(부모클래스)를 의미\n",
    "        self.soilder_id = soilder_id"
   ]
  },
  {
   "cell_type": "markdown",
   "id": "a9ec1fbc-1a92-4426-9cd0-0584dfa19230",
   "metadata": {},
   "source": [
    "## 다중상속"
   ]
  },
  {
   "cell_type": "code",
   "execution_count": null,
   "id": "34089ffa-74d0-4fa0-bb59-4f66f7ff5a43",
   "metadata": {},
   "outputs": [],
   "source": [
    "class Person:\n",
    "    def __init__(self, name):\n",
    "        self.name = name\n",
    "\n",
    "    def breath(self):\n",
    "        print('후하')"
   ]
  },
  {
   "cell_type": "code",
   "execution_count": null,
   "id": "d0d83110-55ca-4c52-9697-40edc6be8d49",
   "metadata": {},
   "outputs": [],
   "source": [
    "class Mom(Person):\n",
    "    gene = 'xx'\n",
    "\n",
    "    def swim(self):\n",
    "        print('어푸어푸')"
   ]
  },
  {
   "cell_type": "code",
   "execution_count": null,
   "id": "7790a6f3-f201-4445-b337-a4c5aa589263",
   "metadata": {},
   "outputs": [],
   "source": [
    "class Dad(Person):\n",
    "    gene = 'xy'\n",
    "\n",
    "    def run(self):\n",
    "        print('다다다')"
   ]
  },
  {
   "cell_type": "code",
   "execution_count": null,
   "id": "6caf50c2-c0b9-4271-917c-8d5837e8d4ef",
   "metadata": {},
   "outputs": [],
   "source": [
    "class Baby(Dad, Mom): \n",
    "    pass"
   ]
  },
  {
   "cell_type": "code",
   "execution_count": null,
   "id": "6652be4c-1751-43f8-bf4e-d038bee08a39",
   "metadata": {},
   "outputs": [],
   "source": [
    "b = Baby('아기')\n",
    "print(b.name)\n",
    "print(b.gene) #파이썬에서 여러개의 상속을 받을 땐 먼저 받은 것(Dad)이 우선순위를 가짐\n",
    "b.swim()\n",
    "b.run()\n",
    "b.breath()"
   ]
  },
  {
   "cell_type": "code",
   "execution_count": 28,
   "id": "84268de8-8971-4b29-86dc-a584415a30ec",
   "metadata": {},
   "outputs": [],
   "source": [
    "class Fighter():\n",
    "    def __init__(self, name, height, weight, strength):\n",
    "        self.name = name\n",
    "        self.height = height\n",
    "        self.weight = weight\n",
    "        self.strength = strength\n",
    "        print('fight')"
   ]
  },
  {
   "cell_type": "code",
   "execution_count": 36,
   "id": "332afda4-b84e-4966-9026-deefd095b5ca",
   "metadata": {},
   "outputs": [],
   "source": [
    "class striker(Fighter):\n",
    "    def __init__(self, name, height, weight, strength, skill):\n",
    "        print(super())\n",
    "        super().__init__(name, height, weight, strength)\n",
    "        # Fighter.__init__(self, name, height, weight, strength)\n",
    "        self.skill = skill\n",
    "        print('strike')\n",
    "    def strike(self):\n",
    "        print('훅')"
   ]
  },
  {
   "cell_type": "code",
   "execution_count": 37,
   "id": "8fa34b4d-a86f-44a4-b883-b8ea6bd64a45",
   "metadata": {},
   "outputs": [
    {
     "name": "stdout",
     "output_type": "stream",
     "text": [
      "<super: <class 'striker'>, <striker object>>\n",
      "fight\n",
      "strike\n",
      "복싱\n",
      "훅\n"
     ]
    }
   ],
   "source": [
    "f1 = striker('k', '182', '75', '38', '복싱')\n",
    "print(f1.skill)\n",
    "f1.strike()"
   ]
  },
  {
   "cell_type": "code",
   "execution_count": 38,
   "id": "184d2a21-1b64-4375-a2ba-7eabbd826db5",
   "metadata": {},
   "outputs": [],
   "source": [
    "class grappler(Fighter):\n",
    "    def __init__(self, name, height, weight, strength, skill):\n",
    "        super().__init__(name, height, weight, strength)\n",
    "        self.skill = skill\n",
    "        print('grappler')\n",
    "    def ground(self):\n",
    "        print('한판')"
   ]
  },
  {
   "cell_type": "code",
   "execution_count": 39,
   "id": "0b1596f2-3ca5-46f0-89b5-c8ed310215f7",
   "metadata": {},
   "outputs": [
    {
     "name": "stdout",
     "output_type": "stream",
     "text": [
      "fight\n",
      "grappler\n",
      "95\n",
      "유도\n",
      "한판\n"
     ]
    }
   ],
   "source": [
    "f2 = grappler('j', '176', '95', '50', '유도')\n",
    "print(f2.weight)\n",
    "print(f2.skill)\n",
    "f2.ground()"
   ]
  },
  {
   "cell_type": "code",
   "execution_count": 40,
   "id": "c63f374e-e3c7-4c7c-adcc-59bc97584798",
   "metadata": {},
   "outputs": [],
   "source": [
    "class master(striker, grappler):\n",
    "    pass\n"
   ]
  },
  {
   "cell_type": "code",
   "execution_count": 41,
   "id": "a34b2586-cb4d-498f-ad36-927353568620",
   "metadata": {},
   "outputs": [
    {
     "name": "stdout",
     "output_type": "stream",
     "text": [
      "<super: <class 'striker'>, <master object>>\n"
     ]
    },
    {
     "ename": "TypeError",
     "evalue": "grappler.__init__() missing 1 required positional argument: 'skill'",
     "output_type": "error",
     "traceback": [
      "\u001b[1;31m---------------------------------------------------------------------------\u001b[0m",
      "\u001b[1;31mTypeError\u001b[0m                                 Traceback (most recent call last)",
      "Cell \u001b[1;32mIn[41], line 1\u001b[0m\n\u001b[1;32m----> 1\u001b[0m m \u001b[38;5;241m=\u001b[39m \u001b[43mmaster\u001b[49m\u001b[43m(\u001b[49m\u001b[38;5;124;43m'\u001b[39;49m\u001b[38;5;124;43ms\u001b[39;49m\u001b[38;5;124;43m'\u001b[39;49m\u001b[43m,\u001b[49m\u001b[43m \u001b[49m\u001b[38;5;124;43m'\u001b[39;49m\u001b[38;5;124;43m185\u001b[39;49m\u001b[38;5;124;43m'\u001b[39;49m\u001b[43m,\u001b[49m\u001b[43m \u001b[49m\u001b[38;5;124;43m'\u001b[39;49m\u001b[38;5;124;43m99\u001b[39;49m\u001b[38;5;124;43m'\u001b[39;49m\u001b[43m,\u001b[49m\u001b[43m \u001b[49m\u001b[38;5;124;43m'\u001b[39;49m\u001b[38;5;124;43m100\u001b[39;49m\u001b[38;5;124;43m'\u001b[39;49m\u001b[43m,\u001b[49m\u001b[43m \u001b[49m\u001b[38;5;124;43m'\u001b[39;49m\u001b[38;5;124;43mMMA\u001b[39;49m\u001b[38;5;124;43m'\u001b[39;49m\u001b[43m)\u001b[49m\n\u001b[0;32m      2\u001b[0m \u001b[38;5;28mprint\u001b[39m(m\u001b[38;5;241m.\u001b[39mname)\n",
      "Cell \u001b[1;32mIn[36], line 4\u001b[0m, in \u001b[0;36mstriker.__init__\u001b[1;34m(self, name, height, weight, strength, skill)\u001b[0m\n\u001b[0;32m      2\u001b[0m \u001b[38;5;28;01mdef\u001b[39;00m \u001b[38;5;21m__init__\u001b[39m(\u001b[38;5;28mself\u001b[39m, name, height, weight, strength, skill):\n\u001b[0;32m      3\u001b[0m     \u001b[38;5;28mprint\u001b[39m(\u001b[38;5;28msuper\u001b[39m())\n\u001b[1;32m----> 4\u001b[0m     \u001b[38;5;28;43msuper\u001b[39;49m\u001b[43m(\u001b[49m\u001b[43m)\u001b[49m\u001b[38;5;241;43m.\u001b[39;49m\u001b[38;5;21;43m__init__\u001b[39;49m\u001b[43m(\u001b[49m\u001b[43mname\u001b[49m\u001b[43m,\u001b[49m\u001b[43m \u001b[49m\u001b[43mheight\u001b[49m\u001b[43m,\u001b[49m\u001b[43m \u001b[49m\u001b[43mweight\u001b[49m\u001b[43m,\u001b[49m\u001b[43m \u001b[49m\u001b[43mstrength\u001b[49m\u001b[43m)\u001b[49m\n\u001b[0;32m      5\u001b[0m     \u001b[38;5;66;03m# Fighter.__init__(self, name, height, weight, strength)\u001b[39;00m\n\u001b[0;32m      6\u001b[0m     \u001b[38;5;28mself\u001b[39m\u001b[38;5;241m.\u001b[39mskill \u001b[38;5;241m=\u001b[39m skill\n",
      "\u001b[1;31mTypeError\u001b[0m: grappler.__init__() missing 1 required positional argument: 'skill'"
     ]
    }
   ],
   "source": [
    "m = master('s', '185', '99', '100', 'MMA')   ## MRO 확인 요망\n",
    "print(m.name)"
   ]
  },
  {
   "cell_type": "code",
   "execution_count": 35,
   "id": "b35542cb-1bfc-459c-b906-a9ffe9803406",
   "metadata": {},
   "outputs": [],
   "source": [
    "# class master(striker, grappler):\n",
    "#     def __init__(self, name, height, weight, strength, skill):\n",
    "#         super().__init__(name, height, weight, strength)\n",
    "#         self.skill = skill"
   ]
  },
  {
   "cell_type": "code",
   "execution_count": null,
   "id": "e9ef4918-799d-4415-a5d5-167f3e0293fe",
   "metadata": {},
   "outputs": [],
   "source": []
  },
  {
   "cell_type": "code",
   "execution_count": null,
   "id": "e13899fb-5d0b-49a5-a17b-5bd595d0eb79",
   "metadata": {},
   "outputs": [],
   "source": []
  },
  {
   "cell_type": "code",
   "execution_count": null,
   "id": "baa971b4-792b-450e-bb7c-4bc0e64d0aea",
   "metadata": {},
   "outputs": [],
   "source": []
  },
  {
   "cell_type": "code",
   "execution_count": null,
   "id": "d5fbe36e-d769-4ba2-b7c4-76cd086023ae",
   "metadata": {},
   "outputs": [],
   "source": []
  },
  {
   "cell_type": "code",
   "execution_count": null,
   "id": "d74cb6c9-0bbb-4c2b-8d70-dd5a0c9b13a2",
   "metadata": {},
   "outputs": [],
   "source": []
  },
  {
   "cell_type": "code",
   "execution_count": null,
   "id": "cc75e522-4b3c-40b1-bf22-4341556001f1",
   "metadata": {},
   "outputs": [],
   "source": []
  },
  {
   "cell_type": "code",
   "execution_count": null,
   "id": "0f3a3928-7e6b-402f-8c9f-f218b9ac241c",
   "metadata": {},
   "outputs": [],
   "source": []
  },
  {
   "cell_type": "code",
   "execution_count": null,
   "id": "91650b94-ed24-4b5d-8566-9acca30e5e81",
   "metadata": {},
   "outputs": [],
   "source": []
  },
  {
   "cell_type": "code",
   "execution_count": null,
   "id": "96911ade-87a9-4e91-abaa-b2c8e239af4b",
   "metadata": {},
   "outputs": [],
   "source": []
  },
  {
   "cell_type": "code",
   "execution_count": null,
   "id": "a53e0533-12a4-471f-85e7-ca020327ff39",
   "metadata": {},
   "outputs": [],
   "source": []
  },
  {
   "cell_type": "code",
   "execution_count": null,
   "id": "88dfe120-84cd-46cd-af22-2f36ee093f38",
   "metadata": {},
   "outputs": [],
   "source": []
  },
  {
   "cell_type": "code",
   "execution_count": null,
   "id": "5624005c-6b3a-4ac8-becd-db5ac4d367eb",
   "metadata": {},
   "outputs": [],
   "source": []
  },
  {
   "cell_type": "code",
   "execution_count": null,
   "id": "fe4ba518-96d3-45d1-91e5-77bc8cf9b8ae",
   "metadata": {},
   "outputs": [],
   "source": []
  },
  {
   "cell_type": "code",
   "execution_count": null,
   "id": "dee892a7-460d-4e27-85c1-8c366e547d96",
   "metadata": {},
   "outputs": [],
   "source": []
  },
  {
   "cell_type": "code",
   "execution_count": null,
   "id": "c1e6c7c8-738b-4e4e-8509-0ad87d2f21c4",
   "metadata": {},
   "outputs": [],
   "source": []
  },
  {
   "cell_type": "code",
   "execution_count": null,
   "id": "dd1b411e-7c8f-4e52-81ee-71a400f81e6c",
   "metadata": {},
   "outputs": [],
   "source": []
  },
  {
   "cell_type": "code",
   "execution_count": null,
   "id": "f874c06d-35ab-42f0-9fbd-f1d636d8008f",
   "metadata": {},
   "outputs": [],
   "source": []
  },
  {
   "cell_type": "code",
   "execution_count": null,
   "id": "bd2b0fec-52d4-4b57-b78e-bdba826a8409",
   "metadata": {},
   "outputs": [],
   "source": []
  },
  {
   "cell_type": "code",
   "execution_count": null,
   "id": "14000639-3ac3-4468-bd8a-70e5fe473e05",
   "metadata": {},
   "outputs": [],
   "source": []
  },
  {
   "cell_type": "code",
   "execution_count": null,
   "id": "b9dc0645-cb6d-4165-8a7d-d29082e6bc51",
   "metadata": {},
   "outputs": [],
   "source": []
  },
  {
   "cell_type": "code",
   "execution_count": null,
   "id": "86ea7437-97bf-44c2-98f1-0712262c776d",
   "metadata": {},
   "outputs": [],
   "source": []
  },
  {
   "cell_type": "code",
   "execution_count": null,
   "id": "c265280b-caad-43d8-875c-b6c472aaa4cf",
   "metadata": {},
   "outputs": [],
   "source": []
  },
  {
   "cell_type": "code",
   "execution_count": null,
   "id": "970ac3ad-9ebf-47e5-96fe-247a3849b46b",
   "metadata": {},
   "outputs": [],
   "source": []
  },
  {
   "cell_type": "code",
   "execution_count": null,
   "id": "106ac20b-c8db-42f4-b6d6-3ecbd6863de6",
   "metadata": {},
   "outputs": [],
   "source": []
  },
  {
   "cell_type": "code",
   "execution_count": null,
   "id": "7b046cb1-885b-4588-9e24-4ae16a757968",
   "metadata": {},
   "outputs": [],
   "source": []
  },
  {
   "cell_type": "code",
   "execution_count": null,
   "id": "487a6e01-f8e2-4368-9071-d4ef0903262b",
   "metadata": {},
   "outputs": [],
   "source": []
  }
 ],
 "metadata": {
  "kernelspec": {
   "display_name": "Python 3 (ipykernel)",
   "language": "python",
   "name": "python3"
  },
  "language_info": {
   "codemirror_mode": {
    "name": "ipython",
    "version": 3
   },
   "file_extension": ".py",
   "mimetype": "text/x-python",
   "name": "python",
   "nbconvert_exporter": "python",
   "pygments_lexer": "ipython3",
   "version": "3.11.5"
  }
 },
 "nbformat": 4,
 "nbformat_minor": 5
}
