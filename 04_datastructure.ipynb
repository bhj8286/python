{
 "cells": [
  {
   "cell_type": "code",
   "execution_count": 2,
   "id": "12f32bfb-2868-4c97-a837-702caaba21c9",
   "metadata": {},
   "outputs": [
    {
     "name": "stdout",
     "output_type": "stream",
     "text": [
      "hello\n"
     ]
    }
   ],
   "source": [
    "print('hello') "
   ]
  },
  {
   "cell_type": "code",
   "execution_count": 5,
   "id": "f2e4c108-db9d-432c-8148-4fca3502f005",
   "metadata": {},
   "outputs": [
    {
     "data": {
      "text/plain": [
       "'일이삼'"
      ]
     },
     "execution_count": 5,
     "metadata": {},
     "output_type": "execute_result"
    }
   ],
   "source": [
    "''.join(['일', '이', '삼']) "
   ]
  },
  {
   "cell_type": "code",
   "execution_count": 8,
   "id": "206d9c66-bb6b-458b-88b3-536f72b86a18",
   "metadata": {},
   "outputs": [
    {
     "data": {
      "text/plain": [
       "['__add__',\n",
       " '__class__',\n",
       " '__contains__',\n",
       " '__delattr__',\n",
       " '__dir__',\n",
       " '__doc__',\n",
       " '__eq__',\n",
       " '__format__',\n",
       " '__ge__',\n",
       " '__getattribute__',\n",
       " '__getitem__',\n",
       " '__getnewargs__',\n",
       " '__getstate__',\n",
       " '__gt__',\n",
       " '__hash__',\n",
       " '__init__',\n",
       " '__init_subclass__',\n",
       " '__iter__',\n",
       " '__le__',\n",
       " '__len__',\n",
       " '__lt__',\n",
       " '__mod__',\n",
       " '__mul__',\n",
       " '__ne__',\n",
       " '__new__',\n",
       " '__reduce__',\n",
       " '__reduce_ex__',\n",
       " '__repr__',\n",
       " '__rmod__',\n",
       " '__rmul__',\n",
       " '__setattr__',\n",
       " '__sizeof__',\n",
       " '__str__',\n",
       " '__subclasshook__',\n",
       " 'capitalize',\n",
       " 'casefold',\n",
       " 'center',\n",
       " 'count',\n",
       " 'encode',\n",
       " 'endswith',\n",
       " 'expandtabs',\n",
       " 'find',\n",
       " 'format',\n",
       " 'format_map',\n",
       " 'index',\n",
       " 'isalnum',\n",
       " 'isalpha',\n",
       " 'isascii',\n",
       " 'isdecimal',\n",
       " 'isdigit',\n",
       " 'isidentifier',\n",
       " 'islower',\n",
       " 'isnumeric',\n",
       " 'isprintable',\n",
       " 'isspace',\n",
       " 'istitle',\n",
       " 'isupper',\n",
       " 'join',\n",
       " 'ljust',\n",
       " 'lower',\n",
       " 'lstrip',\n",
       " 'maketrans',\n",
       " 'partition',\n",
       " 'removeprefix',\n",
       " 'removesuffix',\n",
       " 'replace',\n",
       " 'rfind',\n",
       " 'rindex',\n",
       " 'rjust',\n",
       " 'rpartition',\n",
       " 'rsplit',\n",
       " 'rstrip',\n",
       " 'split',\n",
       " 'splitlines',\n",
       " 'startswith',\n",
       " 'strip',\n",
       " 'swapcase',\n",
       " 'title',\n",
       " 'translate',\n",
       " 'upper',\n",
       " 'zfill']"
      ]
     },
     "execution_count": 8,
     "metadata": {},
     "output_type": "execute_result"
    }
   ],
   "source": [
    "dir('hello') #dir은 객체가 갖고 있는 기능들이 출력됨"
   ]
  },
  {
   "cell_type": "markdown",
   "id": "956c8e8a-2204-431e-8907-feeea1aed555",
   "metadata": {},
   "source": [
    "# 문자열 메소드(객체 안의 함수)"
   ]
  },
  {
   "cell_type": "code",
   "execution_count": 16,
   "id": "ac6c5c03-c829-4a21-9bac-941bea33959d",
   "metadata": {},
   "outputs": [],
   "source": [
    "a = 'hello my name is hojin'"
   ]
  },
  {
   "cell_type": "code",
   "execution_count": 14,
   "id": "59908eb2-8067-4467-bfd8-3107a47f43e0",
   "metadata": {},
   "outputs": [
    {
     "ename": "TypeError",
     "evalue": "'str' object does not support item assignment",
     "output_type": "error",
     "traceback": [
      "\u001b[1;31m---------------------------------------------------------------------------\u001b[0m",
      "\u001b[1;31mTypeError\u001b[0m                                 Traceback (most recent call last)",
      "Cell \u001b[1;32mIn[14], line 2\u001b[0m\n\u001b[0;32m      1\u001b[0m \u001b[38;5;66;03m# 문자열은 immutable하기 때문에 수정 불가능\u001b[39;00m\n\u001b[1;32m----> 2\u001b[0m \u001b[43ma\u001b[49m\u001b[43m[\u001b[49m\u001b[38;5;241;43m0\u001b[39;49m\u001b[43m]\u001b[49m \u001b[38;5;241m=\u001b[39m \u001b[38;5;124m'\u001b[39m\u001b[38;5;124mH\u001b[39m\u001b[38;5;124m'\u001b[39m\n",
      "\u001b[1;31mTypeError\u001b[0m: 'str' object does not support item assignment"
     ]
    }
   ],
   "source": [
    "# 문자열은 immutable하기 때문에 수정 불가능\n",
    "a[0] = 'H'"
   ]
  },
  {
   "cell_type": "code",
   "execution_count": 23,
   "id": "fd6611d3-c89c-4365-b761-9e50efd81f13",
   "metadata": {},
   "outputs": [
    {
     "name": "stdout",
     "output_type": "stream",
     "text": [
      "Hello my name is hojin\n"
     ]
    }
   ],
   "source": [
    "a = a.capitalize() #첫 번째 글자를 대문자로 바꿔줌, 원본 데이터a는 string이라 바뀌지 않았기에 다시 a에 대입해야함 대문자로 바뀐 return값만 준 것\n",
    "print(a)"
   ]
  },
  {
   "cell_type": "code",
   "execution_count": 22,
   "id": "f4d45029-6267-4113-be93-122215c28b07",
   "metadata": {},
   "outputs": [
    {
     "name": "stdout",
     "output_type": "stream",
     "text": [
      "Hello my name is hojin\n"
     ]
    }
   ],
   "source": [
    "a.title() #시작하는 글자 대문자로 \n",
    "print(a)"
   ]
  },
  {
   "cell_type": "code",
   "execution_count": 25,
   "id": "19a8d20c-ea49-4489-bc54-9b95a220b520",
   "metadata": {},
   "outputs": [
    {
     "data": {
      "text/plain": [
       "'HELLO MY NAME IS HOJIN'"
      ]
     },
     "execution_count": 25,
     "metadata": {},
     "output_type": "execute_result"
    }
   ],
   "source": [
    "a.upper()"
   ]
  },
  {
   "cell_type": "code",
   "execution_count": 26,
   "id": "366ae294-8504-46cd-a45f-ab0ec53596dd",
   "metadata": {},
   "outputs": [
    {
     "data": {
      "text/plain": [
       "'hello my name is hojin'"
      ]
     },
     "execution_count": 26,
     "metadata": {},
     "output_type": "execute_result"
    }
   ],
   "source": [
    "a.lower()"
   ]
  },
  {
   "cell_type": "code",
   "execution_count": 27,
   "id": "a47e0e47-2731-4c1e-90be-608985b12bdc",
   "metadata": {},
   "outputs": [
    {
     "name": "stdout",
     "output_type": "stream",
     "text": [
      "Hello my name is hojin\n"
     ]
    }
   ],
   "source": [
    "print(a)"
   ]
  },
  {
   "cell_type": "code",
   "execution_count": 29,
   "id": "81c1dc21-0acf-45d1-8b33-5f2ad7e3b8a6",
   "metadata": {},
   "outputs": [
    {
     "data": {
      "text/plain": [
       "'hi??my??name'"
      ]
     },
     "execution_count": 29,
     "metadata": {},
     "output_type": "execute_result"
    }
   ],
   "source": [
    "my_list = ['hi', 'my', 'name']\n",
    "'??'.join(my_list)"
   ]
  },
  {
   "cell_type": "code",
   "execution_count": 37,
   "id": "7a61eb82-08e4-430c-a038-6aafeffc83f7",
   "metadata": {},
   "outputs": [
    {
     "name": "stdout",
     "output_type": "stream",
     "text": [
      "         hello\n",
      "       \n",
      "hello\n",
      "ello\n",
      "ellohihi\n",
      "hihihihihihihihihihihello\n"
     ]
    }
   ],
   "source": [
    "# .strip([chars]) # 대괄호는 넣어도 되고 안넣어도 되는 의미\n",
    "\n",
    "my_string = '         hello\\n       ' #\\n은 엔터의 기능\n",
    "print(my_string)\n",
    "print(my_string.strip()) #공백(엔터, 띄어쓰기 등)들을 일괄처리\n",
    "\n",
    "my_string2 = 'hihihihihihihihihihihellohihi'\n",
    "print(my_string2.strip('hi')) #반복되는 것을 지운다\n",
    "print(my_string2.lstrip('hi'))\n",
    "print(my_string2.rstrip('hi'))"
   ]
  },
  {
   "cell_type": "code",
   "execution_count": 42,
   "id": "bd506831-a564-40ce-a86c-060ff1c87a02",
   "metadata": {},
   "outputs": [
    {
     "data": {
      "text/plain": [
       "'w!!!ooooow'"
      ]
     },
     "execution_count": 42,
     "metadata": {},
     "output_type": "execute_result"
    }
   ],
   "source": [
    "# .replace(old, new[, count])\n",
    "a = 'woooooooow'\n",
    "a.replace('o', '!', 3)\n"
   ]
  },
  {
   "cell_type": "code",
   "execution_count": 49,
   "id": "77e364f7-65cd-4370-815a-180cbd2ea620",
   "metadata": {},
   "outputs": [
    {
     "name": "stdout",
     "output_type": "stream",
     "text": [
      "1\n",
      "-1\n",
      "1\n"
     ]
    }
   ],
   "source": [
    "# .find(x)\n",
    "a = 'apple'\n",
    "print(a.find('p')) #앞부터 검색해서 첫번째것의 위치를 출력해줌\n",
    "print(a.find('z')) #없는 데이터면 -1로 출력\n",
    "\n",
    "for i in range(len(a)):\n",
    "    if 'p' == a[i]:\n",
    "        print(i)\n",
    "        break\n",
    "else:\n",
    "    print(-1)"
   ]
  },
  {
   "cell_type": "code",
   "execution_count": 52,
   "id": "24c49229-486b-4b38-bc24-3ec03f4ee2a0",
   "metadata": {},
   "outputs": [
    {
     "name": "stdout",
     "output_type": "stream",
     "text": [
      "0\n"
     ]
    },
    {
     "ename": "ValueError",
     "evalue": "substring not found",
     "output_type": "error",
     "traceback": [
      "\u001b[1;31m---------------------------------------------------------------------------\u001b[0m",
      "\u001b[1;31mValueError\u001b[0m                                Traceback (most recent call last)",
      "Cell \u001b[1;32mIn[52], line 4\u001b[0m\n\u001b[0;32m      2\u001b[0m a \u001b[38;5;241m=\u001b[39m \u001b[38;5;124m'\u001b[39m\u001b[38;5;124mapple\u001b[39m\u001b[38;5;124m'\u001b[39m\n\u001b[0;32m      3\u001b[0m \u001b[38;5;28mprint\u001b[39m(a\u001b[38;5;241m.\u001b[39mindex(\u001b[38;5;124m'\u001b[39m\u001b[38;5;124ma\u001b[39m\u001b[38;5;124m'\u001b[39m))\n\u001b[1;32m----> 4\u001b[0m \u001b[38;5;28mprint\u001b[39m(\u001b[43ma\u001b[49m\u001b[38;5;241;43m.\u001b[39;49m\u001b[43mindex\u001b[49m\u001b[43m(\u001b[49m\u001b[38;5;124;43m'\u001b[39;49m\u001b[38;5;124;43mz\u001b[39;49m\u001b[38;5;124;43m'\u001b[39;49m\u001b[43m)\u001b[49m) \u001b[38;5;66;03m#없는 데이터 검색시 에러\u001b[39;00m\n",
      "\u001b[1;31mValueError\u001b[0m: substring not found"
     ]
    }
   ],
   "source": [
    "# .index(x)\n",
    "a = 'apple'\n",
    "print(a.index('a'))\n",
    "print(a.index('z')) #없는 데이터 검색시 에러"
   ]
  },
  {
   "cell_type": "code",
   "execution_count": 56,
   "id": "a800ba27-8791-4ad3-9729-e30f349e2896",
   "metadata": {},
   "outputs": [
    {
     "data": {
      "text/plain": [
       "['my', 'name', 'is']"
      ]
     },
     "execution_count": 56,
     "metadata": {},
     "output_type": "execute_result"
    }
   ],
   "source": [
    "# .split(x)\n",
    "a = 'my_name_is'\n",
    "a.split('_') # 쪼개고 하나의 리스트로 만들어줌"
   ]
  },
  {
   "cell_type": "code",
   "execution_count": 57,
   "id": "af73c22c-72f6-4943-9071-b933a01ce4b1",
   "metadata": {},
   "outputs": [
    {
     "data": {
      "text/plain": [
       "7"
      ]
     },
     "execution_count": 57,
     "metadata": {},
     "output_type": "execute_result"
    }
   ],
   "source": [
    "# .count(x)\n",
    "'wooooooow'.count('o')"
   ]
  },
  {
   "cell_type": "markdown",
   "id": "c00f3e31-ab47-4b94-9806-81a930590a78",
   "metadata": {},
   "source": [
    "# 리스트 메소드 "
   ]
  },
  {
   "cell_type": "code",
   "execution_count": 86,
   "id": "ec0e9a63-fc8e-4242-9519-941ed5af8870",
   "metadata": {},
   "outputs": [],
   "source": [
    "numbers = [1, 2, 6, 4, 2, 1]"
   ]
  },
  {
   "cell_type": "code",
   "execution_count": 78,
   "id": "94b71926-0f5d-4e60-b788-76afbd66c1b8",
   "metadata": {},
   "outputs": [
    {
     "name": "stdout",
     "output_type": "stream",
     "text": [
      "[1, 2, 6, 4, 2, 1, 10]\n"
     ]
    }
   ],
   "source": [
    "# .append(x)\n",
    "numbers.append(10)\n",
    "print(numbers)"
   ]
  },
  {
   "cell_type": "code",
   "execution_count": 79,
   "id": "cee2bee6-264c-4f68-8145-b6147df15c12",
   "metadata": {},
   "outputs": [
    {
     "name": "stdout",
     "output_type": "stream",
     "text": [
      "[1, 2, 6, 4, 2, 1, 10, 99, 100]\n",
      "[1, 2, 6, 4, 2, 1, 10, 99, 100, 99, 100]\n"
     ]
    }
   ],
   "source": [
    "# .extend(iterable)\n",
    "a = [99, 100]\n",
    "\n",
    "numbers.extend(a)\n",
    "print(numbers)\n",
    "print(numbers + a)"
   ]
  },
  {
   "cell_type": "code",
   "execution_count": 80,
   "id": "fd0ce646-88d4-4d59-a604-41420bc6e4fc",
   "metadata": {},
   "outputs": [
    {
     "name": "stdout",
     "output_type": "stream",
     "text": [
      "[1, 2, 6, 3.5, 4, 2, 1, 10, 99, 100]\n"
     ]
    }
   ],
   "source": [
    "# .insert(idx, x)\n",
    "numbers.insert(3, 3.5)\n",
    "print(numbers)"
   ]
  },
  {
   "cell_type": "code",
   "execution_count": 81,
   "id": "b57243d7-0771-4585-b671-bfaf1fe8196f",
   "metadata": {},
   "outputs": [
    {
     "name": "stdout",
     "output_type": "stream",
     "text": [
      "[1, 2, 6, 4, 2, 1, 10, 99, 100]\n"
     ]
    }
   ],
   "source": [
    "# .remove(x)\n",
    "numbers.remove(3.5) #지우고자 하는 데이터가 없으면 에러\n",
    "print(numbers)"
   ]
  },
  {
   "cell_type": "code",
   "execution_count": 84,
   "id": "ce338d54-5a58-4624-842b-052de932c5fd",
   "metadata": {},
   "outputs": [
    {
     "name": "stdout",
     "output_type": "stream",
     "text": [
      "[6, 4, 2]\n",
      "[4, 2]\n"
     ]
    }
   ],
   "source": [
    "# .pop([idx])\n",
    "numbers.pop() # 맨뒤의 데이터가 삭제됨\n",
    "print(numbers)\n",
    "\n",
    "numbers.pop(0) # 원본도 바꾸고 return도 함\n",
    "print(numbers)\n"
   ]
  },
  {
   "cell_type": "code",
   "execution_count": 85,
   "id": "5f8f127f-31c4-47a7-94a0-40ccd5bfe0b8",
   "metadata": {},
   "outputs": [
    {
     "name": "stdout",
     "output_type": "stream",
     "text": [
      "2\n"
     ]
    }
   ],
   "source": [
    "num = numbers.pop()\n",
    "print(num)"
   ]
  },
  {
   "cell_type": "code",
   "execution_count": 95,
   "id": "0fe4e4d0-555c-4772-9824-02960dd67bac",
   "metadata": {},
   "outputs": [
    {
     "name": "stdout",
     "output_type": "stream",
     "text": [
      "[1, 6, 2, 1, 3, 2, 7, 10]\n",
      "None\n",
      "[1, 1, 2, 2, 3, 6, 7, 10]\n",
      "[10, 7, 6, 3, 2, 2, 1, 1]\n"
     ]
    }
   ],
   "source": [
    "# .sort\n",
    "numbers = [1, 6, 2, 1, 3, 2, 7, 10]\n",
    "print(numbers)\n",
    "\n",
    "print(numbers.sort()) #원본을 수정하고 리턴되는 값이 없음, sort는 numbers가 가지고 있는 기능\n",
    "\n",
    "print(numbers)\n",
    "\n",
    "numbers.sort(reverse=True)\n",
    "print(numbers)"
   ]
  },
  {
   "cell_type": "code",
   "execution_count": 96,
   "id": "9dd46a5f-ca52-4a0e-bcdd-558fd1bad475",
   "metadata": {},
   "outputs": [
    {
     "name": "stdout",
     "output_type": "stream",
     "text": [
      "[1, 1, 2, 2, 3, 6, 7, 10]\n",
      "[1, 6, 2, 1, 3, 2, 7, 10]\n"
     ]
    }
   ],
   "source": [
    "numbers = [1, 6, 2, 1, 3, 2, 7, 10]\n",
    "print(sorted(numbers))\n",
    "print(numbers)"
   ]
  },
  {
   "cell_type": "code",
   "execution_count": 98,
   "id": "6b2ae6d6-c8c9-4a65-a564-59773d77fa93",
   "metadata": {},
   "outputs": [
    {
     "name": "stdout",
     "output_type": "stream",
     "text": [
      "[1, 6, 2, 1, 3, 2, 7, 10]\n",
      "[10, 7, 2, 3, 1, 2, 6, 1]\n",
      "[1, 6, 2, 1, 3, 2, 7, 10]\n"
     ]
    }
   ],
   "source": [
    "# reverse()\n",
    "numbers = [1, 6, 2, 1, 3, 2, 7, 10]\n",
    "print(numbers)\n",
    "numbers.reverse()\n",
    "print(numbers)\n",
    "numbers = numbers[  :  : -1 ]\n",
    "print(numbers)"
   ]
  },
  {
   "cell_type": "code",
   "execution_count": 100,
   "id": "896ad3a1-c93e-4bcf-b260-a65507b905e5",
   "metadata": {},
   "outputs": [
    {
     "name": "stdout",
     "output_type": "stream",
     "text": [
      "[10, 7, 2, 3, 1, 2, 6, 1]\n"
     ]
    }
   ],
   "source": [
    "numbers = [1, 6, 2, 1, 3, 2, 7, 10]\n",
    "numbers = numbers[  :  : -1 ] #1부터 반대로 나열됨\n",
    "print(numbers)"
   ]
  },
  {
   "cell_type": "markdown",
   "id": "f68c91c5-5283-4f17-8c7e-8e063ebd5023",
   "metadata": {},
   "source": [
    "## list copy"
   ]
  },
  {
   "cell_type": "code",
   "execution_count": 101,
   "id": "2e1cc633-b937-4d7d-9736-6ee7d8603da9",
   "metadata": {},
   "outputs": [],
   "source": [
    "origin_list = [1, 2, 3]\n",
    "copy_list = origin_list"
   ]
  },
  {
   "cell_type": "code",
   "execution_count": 102,
   "id": "4fec88e8-45be-4e2a-bcb8-c24620e09eb7",
   "metadata": {},
   "outputs": [
    {
     "name": "stdout",
     "output_type": "stream",
     "text": [
      "[1, 2, 3]\n",
      "[1, 2, 3]\n"
     ]
    }
   ],
   "source": [
    "print(origin_list)\n",
    "print(copy_list)"
   ]
  },
  {
   "cell_type": "code",
   "execution_count": 103,
   "id": "0f172c25-b642-4daa-b703-29501d792e55",
   "metadata": {},
   "outputs": [],
   "source": [
    "copy_list[0] = 100"
   ]
  },
  {
   "cell_type": "code",
   "execution_count": 104,
   "id": "1a6d75c0-e2a3-438e-9f21-c0e4790a1de4",
   "metadata": {},
   "outputs": [
    {
     "name": "stdout",
     "output_type": "stream",
     "text": [
      "[100, 2, 3]\n",
      "[100, 2, 3]\n"
     ]
    }
   ],
   "source": [
    "print(origin_list)\n",
    "print(copy_list)"
   ]
  },
  {
   "cell_type": "code",
   "execution_count": 106,
   "id": "774fa208-74e1-4b24-ba17-60cb7aa935f7",
   "metadata": {},
   "outputs": [
    {
     "name": "stdout",
     "output_type": "stream",
     "text": [
      "[1, 2, 3]\n",
      "[100, 2, 3]\n"
     ]
    }
   ],
   "source": [
    "a = [1, 2, 3]\n",
    "#b= list(a)\n",
    "b = a[:]\n",
    "\n",
    "b[0] = 100 \n",
    "\n",
    "print(a)\n",
    "print(b)"
   ]
  },
  {
   "cell_type": "code",
   "execution_count": 107,
   "id": "d40dc59d-4a66-4e7f-846e-226c7f141da9",
   "metadata": {},
   "outputs": [
    {
     "name": "stdout",
     "output_type": "stream",
     "text": [
      "[1, 2, [99, 1000]]\n",
      "[1, 2, [99, 1000]]\n"
     ]
    }
   ],
   "source": [
    "a = [   1,    2,   [99, 100]   ]\n",
    "b = a[:] # b = list(a)\n",
    "\n",
    "b[2][1] = 1000\n",
    "\n",
    "print(a)\n",
    "print(b)\n"
   ]
  },
  {
   "cell_type": "code",
   "execution_count": 108,
   "id": "c32f0125-08ba-4865-9237-ca03c8ae13da",
   "metadata": {},
   "outputs": [
    {
     "name": "stdout",
     "output_type": "stream",
     "text": [
      "[1, 2, [99, 100]]\n",
      "[1, 2, [99, 1000]]\n"
     ]
    }
   ],
   "source": [
    "import copy\n",
    "a = [1, 2, [99,100]]\n",
    "b = copy.deepcopy(a)\n",
    "\n",
    "b[2][1] = 1000\n",
    "\n",
    "print(a)\n",
    "print(b)"
   ]
  },
  {
   "cell_type": "markdown",
   "id": "74fa8fb4-eb3e-4dc1-a2c7-b6be17b313d4",
   "metadata": {},
   "source": [
    "## list comprehension -> 대괄호 안에서만 작동"
   ]
  },
  {
   "cell_type": "code",
   "execution_count": 110,
   "id": "8b755b54-291c-4555-b8e6-6457d02b6bb5",
   "metadata": {},
   "outputs": [
    {
     "name": "stdout",
     "output_type": "stream",
     "text": [
      "[1, 2, 3, 4, 5, 6, 7, 8, 9, 10]\n"
     ]
    }
   ],
   "source": [
    "numbers = list(range(1, 11))\n",
    "print(numbers)"
   ]
  },
  {
   "cell_type": "code",
   "execution_count": 111,
   "id": "009e2ad9-1831-4e60-8367-082856df8ccd",
   "metadata": {},
   "outputs": [
    {
     "name": "stdout",
     "output_type": "stream",
     "text": [
      "[1, 8, 27, 64, 125, 216, 343, 512, 729, 1000]\n"
     ]
    }
   ],
   "source": [
    "#[1, 8, 27...1000] => 세제곱 만들기\n",
    "result = []\n",
    "\n",
    "for number in numbers:\n",
    "    result.append(number ** 3)\n",
    "print(result)"
   ]
  },
  {
   "cell_type": "code",
   "execution_count": 112,
   "id": "cba93b0a-b0ba-4871-83dc-c234f339a72d",
   "metadata": {},
   "outputs": [
    {
     "name": "stdout",
     "output_type": "stream",
     "text": [
      "[1, 8, 27, 64, 125, 216, 343, 512, 729, 1000]\n"
     ]
    }
   ],
   "source": [
    "result2 = [number **3 for number in numbers ]\n",
    "print(result2)"
   ]
  },
  {
   "cell_type": "code",
   "execution_count": 113,
   "id": "e5fdf546-00bd-433d-8665-c21bf56bfc94",
   "metadata": {},
   "outputs": [
    {
     "name": "stdout",
     "output_type": "stream",
     "text": [
      "[2, 4, 6, 8, 10]\n"
     ]
    }
   ],
   "source": [
    "# 짝수만 고르기\n",
    "even_list = []\n",
    "for number in numbers:\n",
    "    if number % 2 ==0:\n",
    "        even_list.append(number)\n",
    "\n",
    "print(even_list)"
   ]
  },
  {
   "cell_type": "code",
   "execution_count": 114,
   "id": "42510864-7389-4d8b-bfa9-81adf4aed0a8",
   "metadata": {},
   "outputs": [
    {
     "name": "stdout",
     "output_type": "stream",
     "text": [
      "[2, 4, 6, 8, 10]\n"
     ]
    }
   ],
   "source": [
    "#짝수만 고르기(list comprehension)\n",
    "even_list2 = [number for number in numbers if number % 2 == 0]\n",
    "print(even_list2)"
   ]
  },
  {
   "cell_type": "code",
   "execution_count": 123,
   "id": "48e95152-968d-4bc4-94a1-3895358b2aa2",
   "metadata": {},
   "outputs": [],
   "source": [
    "words = 'my name is hong'\n",
    "vowels = 'aeiou'\n",
    "\n",
    "# => my nm s hng"
   ]
  },
  {
   "cell_type": "code",
   "execution_count": 133,
   "id": "8bab27ca-8cb9-4068-91a8-9c8679501a34",
   "metadata": {},
   "outputs": [
    {
     "name": "stdout",
     "output_type": "stream",
     "text": [
      "my nm s hng\n",
      "['m', 'y', ' ', 'n', 'm', ' ', 's', ' ', 'h', 'n', 'g']\n",
      "my nm s hng\n"
     ]
    }
   ],
   "source": [
    "# 1. for문 \n",
    "words = 'my name is hong'\n",
    "vowels = 'aeiou'\n",
    "result = ''\n",
    "for word in words:\n",
    "    if word not in vowels:\n",
    "        result += word\n",
    "print(result)\n",
    "\n",
    "##강사님거 \n",
    "result = []\n",
    "for char in words:\n",
    "    if char not in vowels:\n",
    "        result.append(char)\n",
    "print(result)\n",
    "print(''.join(result))"
   ]
  },
  {
   "cell_type": "code",
   "execution_count": 135,
   "id": "6c7344f0-af9b-412d-a20b-a85da62c5c18",
   "metadata": {},
   "outputs": [
    {
     "name": "stdout",
     "output_type": "stream",
     "text": [
      "my nm s hng\n",
      "my nm s hng\n"
     ]
    }
   ],
   "source": [
    "#2. list comprehension\n",
    "result = [word for word in words if word not in vowels]\n",
    "print(''.join(result))\n",
    "\n",
    "#강사님 풀이\n",
    "result = [char for char in words if char not in vowels]\n",
    "print(''.join(result))"
   ]
  },
  {
   "cell_type": "markdown",
   "id": "019eb9d9-5c04-424c-9591-47375a6555aa",
   "metadata": {},
   "source": [
    "## 딕셔너리 메소드"
   ]
  },
  {
   "cell_type": "code",
   "execution_count": 153,
   "id": "f4a2682c-1945-411d-ab35-5b4f368d1f56",
   "metadata": {},
   "outputs": [],
   "source": [
    "info = {\n",
    "    'name' : 'hojin',\n",
    "    'location' : 'seoul',\n",
    "}"
   ]
  },
  {
   "cell_type": "code",
   "execution_count": 140,
   "id": "474b005f-4254-4fc0-be6c-a8cec1352bc2",
   "metadata": {},
   "outputs": [
    {
     "name": "stdout",
     "output_type": "stream",
     "text": [
      "{'name': 'kim', 'location': 'seoul'}\n"
     ]
    }
   ],
   "source": [
    "info['name'] = 'kim'\n",
    "print(info)"
   ]
  },
  {
   "cell_type": "code",
   "execution_count": 154,
   "id": "9b182a97-e5cd-4ea8-b479-b67fbb99e56f",
   "metadata": {},
   "outputs": [
    {
     "name": "stdout",
     "output_type": "stream",
     "text": [
      "{'name': 'hojin', 'location': 'seoul'}\n",
      "seoul\n",
      "{'name': 'hojin'}\n",
      "None\n"
     ]
    }
   ],
   "source": [
    "# .pop(key,[, default])\n",
    "print(info)\n",
    "print(info.pop('location')) # 지운 데이터가 뭔지 알려줌\n",
    "\n",
    "print(info)\n",
    "print(info.pop('location', None)) # 지우고 그 자리에 출력할 값 입력\n",
    "\n"
   ]
  },
  {
   "cell_type": "code",
   "execution_count": 155,
   "id": "ef87db93-0e16-4d7c-ad8f-ec656679adae",
   "metadata": {},
   "outputs": [
    {
     "name": "stdout",
     "output_type": "stream",
     "text": [
      "{'name': 'park'}\n"
     ]
    }
   ],
   "source": [
    "# .update()\n",
    "info.update(name='park')\n",
    "print(info)"
   ]
  },
  {
   "cell_type": "code",
   "execution_count": 161,
   "id": "f243ec53-f93e-4c7d-a65f-7c4719f7771f",
   "metadata": {},
   "outputs": [
    {
     "name": "stdout",
     "output_type": "stream",
     "text": [
      "park\n",
      "None\n",
      "해당키가 없습니다.\n"
     ]
    }
   ],
   "source": [
    "# .get(key[, default])\n",
    "print(info.get('name'))\n",
    "print(info.get('phone')) #-> 없는 값을 찾으면 none출력\n",
    "# info['phone']-> 없는 값을 찾으면 에러\n",
    "print(info.get('phone', '해당키가 없습니다.')) "
   ]
  },
  {
   "cell_type": "markdown",
   "id": "c8d5dede-d5dd-4f67-9b90-47953b20d925",
   "metadata": {},
   "source": [
    "## dict comprehension"
   ]
  },
  {
   "cell_type": "code",
   "execution_count": 162,
   "id": "6fa77b19-2fb1-4bf1-b8a2-24d455ef7359",
   "metadata": {},
   "outputs": [
    {
     "name": "stdout",
     "output_type": "stream",
     "text": [
      "{1: 1, 2: 8, 3: 27, 4: 64, 5: 125, 6: 216, 7: 343, 8: 512, 9: 729, 10: 1000}\n"
     ]
    }
   ],
   "source": [
    "# for\n",
    "#{1: 1, 2: 8, 3: 9...........}\n",
    "result = {}\n",
    "numbers = range(1,11)\n",
    "for number in numbers:\n",
    "    result[number] = number ** 3\n",
    "print(result)\n"
   ]
  },
  {
   "cell_type": "code",
   "execution_count": 163,
   "id": "daef01c0-11d7-4b8a-b714-654aa1face54",
   "metadata": {},
   "outputs": [
    {
     "name": "stdout",
     "output_type": "stream",
     "text": [
      "{1: 1, 2: 8, 3: 27, 4: 64, 5: 125, 6: 216, 7: 343, 8: 512, 9: 729, 10: 1000}\n"
     ]
    }
   ],
   "source": [
    "# comp\n",
    "result2 = { number: number ** 3 for number in numbers}\n",
    "print(result2)"
   ]
  },
  {
   "cell_type": "code",
   "execution_count": 164,
   "id": "75db4946-124a-4c9d-9c9b-cac166027109",
   "metadata": {},
   "outputs": [],
   "source": [
    "dust = {\n",
    "    '서울' : 100,\n",
    "    '대구' : 30,\n",
    "    '부산' : 50,\n",
    "    '광주' : 80,\n",
    "    '제주' : 20,\n",
    "}\n",
    "\n",
    "# # result ={\n",
    "#     '서울' : 100,\n",
    "#     '부산' : 50,\n",
    "#     '광주' : 80,\n",
    "# }"
   ]
  },
  {
   "cell_type": "code",
   "execution_count": 171,
   "id": "e8053870-8957-4bec-a3db-00bfb7def7f7",
   "metadata": {},
   "outputs": [
    {
     "name": "stdout",
     "output_type": "stream",
     "text": [
      "{'서울': 100, '부산': 50, '광주': 80}\n"
     ]
    }
   ],
   "source": [
    "dust = {\n",
    "    '서울' : 100,\n",
    "    '대구' : 30,\n",
    "    '부산' : 50,\n",
    "    '광주' : 80,\n",
    "    '제주' : 20,\n",
    "}\n",
    "result = {}\n",
    "for k, v in dust.items():\n",
    "    if 50 <= v:\n",
    "        result[k]= v\n",
    "print(result)"
   ]
  },
  {
   "cell_type": "code",
   "execution_count": 172,
   "id": "2a3aefa6-ae1f-49d5-ae86-7e8528502895",
   "metadata": {},
   "outputs": [
    {
     "name": "stdout",
     "output_type": "stream",
     "text": [
      "{'서울': 100, '부산': 50, '광주': 80}\n"
     ]
    }
   ],
   "source": [
    "# 2. campk,\n",
    "result2 = {k: v for k, v in dust.items() if v >= 50}\n",
    "print(result2)"
   ]
  },
  {
   "cell_type": "code",
   "execution_count": 173,
   "id": "879f0e0f-6b2d-4477-8f20-de13156f4fc6",
   "metadata": {},
   "outputs": [
    {
     "name": "stdout",
     "output_type": "stream",
     "text": [
      "{'서울': '나쁨', '부산': '나쁨', '광주': '나쁨'}\n"
     ]
    }
   ],
   "source": [
    "result2 = {k: '나쁨' for k, v in dust.items() if v >= 50}\n",
    "print(result2)"
   ]
  },
  {
   "cell_type": "markdown",
   "id": "f5553d9e-dcc7-4248-8251-eba1199ac513",
   "metadata": {},
   "source": [
    "## 세트 메소드 -> 순서가 보장되어있지않음"
   ]
  },
  {
   "cell_type": "code",
   "execution_count": 179,
   "id": "6a5567f0-287e-49c0-8baf-15d0bcd09bbe",
   "metadata": {},
   "outputs": [],
   "source": [
    "fruits = {'apple', 'banana', 'melon'}"
   ]
  },
  {
   "cell_type": "code",
   "execution_count": 177,
   "id": "91529dfa-abdf-4794-bd9c-ce5309a9021a",
   "metadata": {},
   "outputs": [
    {
     "name": "stdout",
     "output_type": "stream",
     "text": [
      "{'apple', 'watermelon', 'melon', 'banana'}\n",
      "{'apple', 'watermelon', 'melon', 'banana'}\n"
     ]
    }
   ],
   "source": [
    "# .add(x)\n",
    "fruits.add('watermelon') \n",
    "print(fruits)\n",
    "fruits.add('watermelon') \n",
    "print(fruits)"
   ]
  },
  {
   "cell_type": "code",
   "execution_count": 183,
   "id": "0b97b9fc-a614-474a-aaa1-8669da8f2f36",
   "metadata": {},
   "outputs": [
    {
     "name": "stdout",
     "output_type": "stream",
     "text": [
      "{'apple', 'e', 'melon', 'grape', 'r', 'p', 'orange', 'banana', 'g', 'a'}\n"
     ]
    }
   ],
   "source": [
    "# .update({set})\n",
    "fruits.update({'grape', 'orange'})\n",
    "print(fruits)"
   ]
  },
  {
   "cell_type": "code",
   "execution_count": 184,
   "id": "58030897-493e-447a-a1f0-02dbeaeb6491",
   "metadata": {},
   "outputs": [
    {
     "name": "stdout",
     "output_type": "stream",
     "text": [
      "{'apple', 'e', 'melon', 'grape', 'r', 'p', 'banana', 'g', 'a'}\n"
     ]
    }
   ],
   "source": [
    "# .remove(x)\n",
    "fruits.remove('orange')\n",
    "print(fruits)"
   ]
  },
  {
   "cell_type": "code",
   "execution_count": 185,
   "id": "491c07c8-fa56-4ec8-8d04-0d258bf6c3a8",
   "metadata": {},
   "outputs": [
    {
     "name": "stdout",
     "output_type": "stream",
     "text": [
      "{'e', 'melon', 'grape', 'r', 'p', 'banana', 'g', 'a'}\n"
     ]
    }
   ],
   "source": [
    "# .pop()\n",
    "fruits.pop()\n",
    "print(fruits)"
   ]
  },
  {
   "cell_type": "markdown",
   "id": "5c264e53-143e-497e-9615-514ee8c6caec",
   "metadata": {},
   "source": [
    "## map, filter, zip"
   ]
  },
  {
   "cell_type": "markdown",
   "id": "9cb64e06-7da2-40bd-a3e3-8415aa0d26a1",
   "metadata": {},
   "source": [
    "- map(function, iterable)"
   ]
  },
  {
   "cell_type": "code",
   "execution_count": 186,
   "id": "8e3f2c83-f008-481e-a522-7fb32638bff4",
   "metadata": {},
   "outputs": [
    {
     "name": "stdout",
     "output_type": "stream",
     "text": [
      "<map object at 0x000001C2B708B670>\n",
      "['1', '2', '3']\n"
     ]
    }
   ],
   "source": [
    "a = [1, 2, 3]\n",
    "number_str = map(str, a)\n",
    "print(number_str)\n",
    "print(list(number_str))"
   ]
  },
  {
   "cell_type": "code",
   "execution_count": 187,
   "id": "a57591e7-3035-414b-a90b-fedde84137e0",
   "metadata": {},
   "outputs": [
    {
     "name": "stdout",
     "output_type": "stream",
     "text": [
      "125\n",
      "1000\n"
     ]
    }
   ],
   "source": [
    "def cube(x):\n",
    "    return x ** 3\n",
    "\n",
    "print(cube(5))\n",
    "print(cube(10))"
   ]
  },
  {
   "cell_type": "code",
   "execution_count": 188,
   "id": "4f9932ba-88d4-4543-97d3-9b8cffafc7ac",
   "metadata": {},
   "outputs": [
    {
     "name": "stdout",
     "output_type": "stream",
     "text": [
      "[1, 8, 27]\n"
     ]
    }
   ],
   "source": [
    "result = []\n",
    "for i in a:\n",
    "    result.append(i ** 3)\n",
    "\n",
    "print(result)"
   ]
  },
  {
   "cell_type": "code",
   "execution_count": 190,
   "id": "7cf23540-2a4e-4f1d-826b-d994c3b92be5",
   "metadata": {},
   "outputs": [
    {
     "name": "stdout",
     "output_type": "stream",
     "text": [
      "[1, 8, 27]\n"
     ]
    }
   ],
   "source": [
    "result2 = map(cube, a) # 큐브라는 함수를 인자로 넣은 것\n",
    "print(list(result2))"
   ]
  },
  {
   "cell_type": "code",
   "execution_count": 196,
   "id": "1dd89383-d67f-4f1c-b3e8-c55744479966",
   "metadata": {},
   "outputs": [
    {
     "name": "stdout",
     "output_type": "stream",
     "text": [
      "[1, 3, 5, 7, 9]\n"
     ]
    }
   ],
   "source": [
    "a = '1 3 5 7 9'\n",
    "numbers = list(map(int, a.split()))\n",
    "print(numbers)"
   ]
  },
  {
   "cell_type": "markdown",
   "id": "49c7d0fa-7e65-4b35-a74b-57bfb4c8a7f4",
   "metadata": {},
   "source": [
    "- filter(function, iterable)\n",
    "filter에 들어가는 function은 T/F를 반환해야 합니다."
   ]
  },
  {
   "cell_type": "code",
   "execution_count": 207,
   "id": "9cb540de-ac1c-465e-8f8e-0c3b1d93a692",
   "metadata": {},
   "outputs": [
    {
     "name": "stdout",
     "output_type": "stream",
     "text": [
      "True\n",
      "False\n"
     ]
    }
   ],
   "source": [
    "def is_odd(x):\n",
    "    if x % 2 == 1:\n",
    "        return True\n",
    "    else:\n",
    "        return False\n",
    "    \n",
    "    # = return bool(x % 2)\n",
    "\n",
    "print(is_odd(5))\n",
    "print(is_odd(10))"
   ]
  },
  {
   "cell_type": "code",
   "execution_count": 204,
   "id": "d9acf92a-72ba-4f76-aac3-d81362f71035",
   "metadata": {},
   "outputs": [],
   "source": [
    "numbers = [1, 2, 3, 4, 5]"
   ]
  },
  {
   "cell_type": "code",
   "execution_count": 205,
   "id": "9cb9e8b2-71dc-43bc-af88-e50c3edff617",
   "metadata": {},
   "outputs": [
    {
     "name": "stdout",
     "output_type": "stream",
     "text": [
      "[1, 3, 5]\n"
     ]
    }
   ],
   "source": [
    "# for\n",
    "result = []\n",
    "for number in numbers:\n",
    "    if is_odd(number):\n",
    "        result.append(number)\n",
    "\n",
    "print(result)"
   ]
  },
  {
   "cell_type": "code",
   "execution_count": 206,
   "id": "17733f11-0812-44b8-9b58-779fe88b7b0b",
   "metadata": {},
   "outputs": [
    {
     "name": "stdout",
     "output_type": "stream",
     "text": [
      "[1, 3, 5]\n"
     ]
    }
   ],
   "source": [
    "result2 = filter(is_odd, numbers)\n",
    "print(list(result2))"
   ]
  },
  {
   "cell_type": "markdown",
   "id": "14503396-41b2-46b7-ae54-9d512e0b6453",
   "metadata": {},
   "source": [
    "- zip"
   ]
  },
  {
   "cell_type": "code",
   "execution_count": 208,
   "id": "c524568d-3788-44ff-906e-133c3b21b875",
   "metadata": {},
   "outputs": [],
   "source": [
    "a = [1, 2, 3]\n",
    "b = [100, 200, 300]"
   ]
  },
  {
   "cell_type": "code",
   "execution_count": 209,
   "id": "db410661-2d3f-4495-a06a-180aa17f2d47",
   "metadata": {},
   "outputs": [
    {
     "name": "stdout",
     "output_type": "stream",
     "text": [
      "<zip object at 0x000001C2B75062C0>\n",
      "[(1, 100), (2, 200), (3, 300)]\n"
     ]
    }
   ],
   "source": [
    "result = zip(a,b)\n",
    "print(result)\n",
    "print(list(result))"
   ]
  },
  {
   "cell_type": "code",
   "execution_count": null,
   "id": "373ad7c4-2050-41a4-ae82-6ceab64d7d7e",
   "metadata": {},
   "outputs": [],
   "source": []
  },
  {
   "cell_type": "code",
   "execution_count": null,
   "id": "dae9fa4d-6665-4fb5-bfaa-b443a0bc09a2",
   "metadata": {},
   "outputs": [],
   "source": []
  },
  {
   "cell_type": "code",
   "execution_count": null,
   "id": "17c099a7-00e0-4559-b240-b6356a2664fe",
   "metadata": {},
   "outputs": [],
   "source": []
  },
  {
   "cell_type": "code",
   "execution_count": null,
   "id": "11dd2092-ea8d-468a-a0ac-9164ed2c24a3",
   "metadata": {},
   "outputs": [],
   "source": []
  }
 ],
 "metadata": {
  "kernelspec": {
   "display_name": "Python 3 (ipykernel)",
   "language": "python",
   "name": "python3"
  },
  "language_info": {
   "codemirror_mode": {
    "name": "ipython",
    "version": 3
   },
   "file_extension": ".py",
   "mimetype": "text/x-python",
   "name": "python",
   "nbconvert_exporter": "python",
   "pygments_lexer": "ipython3",
   "version": "3.11.5"
  }
 },
 "nbformat": 4,
 "nbformat_minor": 5
}
