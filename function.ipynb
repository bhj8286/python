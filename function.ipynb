{
 "cells": [
  {
   "cell_type": "markdown",
   "id": "5e6d68fd-6366-4eef-9ef1-a0442f79ba94",
   "metadata": {},
   "source": [
    "# 함수 (funcion) ```Input을 받고, Output이 있어야함, 결과는 하나만 있음```"
   ]
  },
  {
   "cell_type": "code",
   "execution_count": 1,
   "id": "7e72003f-5dbe-471e-9fe6-4259ecff36e0",
   "metadata": {},
   "outputs": [
    {
     "name": "stdout",
     "output_type": "stream",
     "text": [
      "직사각형의 면적은200, 둘레는 60입니다.\n"
     ]
    }
   ],
   "source": [
    "height = 10\n",
    "width = 20\n",
    "\n",
    "height2 = 50\n",
    "width2 = 100\n",
    "\n",
    "area = height * width\n",
    "perimeter = (height + width) * 2\n",
    "print(f'직사각형의 면적은{area}, 둘레는 {perimeter}입니다.')\n",
    "\n",
    "area2 = height2 * width2"
   ]
  },
  {
   "cell_type": "markdown",
   "id": "6a2a1b15-b86b-4546-9d45-5beee20cbd0a",
   "metadata": {},
   "source": [
    "### 함수의 선언과 호출\n",
    "\n",
    "- 함수의 선언\n",
    "```python\n",
    "def func_name(parameter1, parameter2):\n",
    "    code1\n",
    "    code2\n",
    "    ...\n",
    "    return value\n",
    "```\n",
    "- -함수의 호출(실행)\n",
    "  ```func_name(parameter1, parameter2)```"
   ]
  },
  {
   "cell_type": "code",
   "execution_count": 2,
   "id": "c0d76d10-4bbb-447d-96af-f38d99643368",
   "metadata": {},
   "outputs": [],
   "source": [
    "def rectangle(height, width):\n",
    "    area = height * width\n",
    "    perimeter = (height + width) * 2\n",
    "    print(area,perimeter)"
   ]
  },
  {
   "cell_type": "code",
   "execution_count": 5,
   "id": "035f2332-f27b-4454-a968-90e4b7398861",
   "metadata": {},
   "outputs": [
    {
     "name": "stdout",
     "output_type": "stream",
     "text": [
      "5000 300\n",
      "2500 200\n",
      "1200 140\n"
     ]
    }
   ],
   "source": [
    "rectangle(100, 50)#함수는 ()가 있어야 실행됨\n",
    "rectangle(50, 50)\n",
    "rectangle(40, 30)"
   ]
  },
  {
   "cell_type": "code",
   "execution_count": 7,
   "id": "9a97bf85-4791-4788-8f3e-858a05423556",
   "metadata": {},
   "outputs": [
    {
     "data": {
      "text/plain": [
       "['ArithmeticError',\n",
       " 'AssertionError',\n",
       " 'AttributeError',\n",
       " 'BaseException',\n",
       " 'BaseExceptionGroup',\n",
       " 'BlockingIOError',\n",
       " 'BrokenPipeError',\n",
       " 'BufferError',\n",
       " 'BytesWarning',\n",
       " 'ChildProcessError',\n",
       " 'ConnectionAbortedError',\n",
       " 'ConnectionError',\n",
       " 'ConnectionRefusedError',\n",
       " 'ConnectionResetError',\n",
       " 'DeprecationWarning',\n",
       " 'EOFError',\n",
       " 'Ellipsis',\n",
       " 'EncodingWarning',\n",
       " 'EnvironmentError',\n",
       " 'Exception',\n",
       " 'ExceptionGroup',\n",
       " 'False',\n",
       " 'FileExistsError',\n",
       " 'FileNotFoundError',\n",
       " 'FloatingPointError',\n",
       " 'FutureWarning',\n",
       " 'GeneratorExit',\n",
       " 'IOError',\n",
       " 'ImportError',\n",
       " 'ImportWarning',\n",
       " 'IndentationError',\n",
       " 'IndexError',\n",
       " 'InterruptedError',\n",
       " 'IsADirectoryError',\n",
       " 'KeyError',\n",
       " 'KeyboardInterrupt',\n",
       " 'LookupError',\n",
       " 'MemoryError',\n",
       " 'ModuleNotFoundError',\n",
       " 'NameError',\n",
       " 'None',\n",
       " 'NotADirectoryError',\n",
       " 'NotImplemented',\n",
       " 'NotImplementedError',\n",
       " 'OSError',\n",
       " 'OverflowError',\n",
       " 'PendingDeprecationWarning',\n",
       " 'PermissionError',\n",
       " 'ProcessLookupError',\n",
       " 'RecursionError',\n",
       " 'ReferenceError',\n",
       " 'ResourceWarning',\n",
       " 'RuntimeError',\n",
       " 'RuntimeWarning',\n",
       " 'StopAsyncIteration',\n",
       " 'StopIteration',\n",
       " 'SyntaxError',\n",
       " 'SyntaxWarning',\n",
       " 'SystemError',\n",
       " 'SystemExit',\n",
       " 'TabError',\n",
       " 'TimeoutError',\n",
       " 'True',\n",
       " 'TypeError',\n",
       " 'UnboundLocalError',\n",
       " 'UnicodeDecodeError',\n",
       " 'UnicodeEncodeError',\n",
       " 'UnicodeError',\n",
       " 'UnicodeTranslateError',\n",
       " 'UnicodeWarning',\n",
       " 'UserWarning',\n",
       " 'ValueError',\n",
       " 'Warning',\n",
       " 'WindowsError',\n",
       " 'ZeroDivisionError',\n",
       " '__IPYTHON__',\n",
       " '__build_class__',\n",
       " '__debug__',\n",
       " '__doc__',\n",
       " '__import__',\n",
       " '__loader__',\n",
       " '__name__',\n",
       " '__package__',\n",
       " '__spec__',\n",
       " 'abs',\n",
       " 'aiter',\n",
       " 'all',\n",
       " 'anext',\n",
       " 'any',\n",
       " 'ascii',\n",
       " 'bin',\n",
       " 'bool',\n",
       " 'breakpoint',\n",
       " 'bytearray',\n",
       " 'bytes',\n",
       " 'callable',\n",
       " 'chr',\n",
       " 'classmethod',\n",
       " 'compile',\n",
       " 'complex',\n",
       " 'copyright',\n",
       " 'credits',\n",
       " 'delattr',\n",
       " 'dict',\n",
       " 'dir',\n",
       " 'display',\n",
       " 'divmod',\n",
       " 'enumerate',\n",
       " 'eval',\n",
       " 'exec',\n",
       " 'execfile',\n",
       " 'filter',\n",
       " 'float',\n",
       " 'format',\n",
       " 'frozenset',\n",
       " 'get_ipython',\n",
       " 'getattr',\n",
       " 'globals',\n",
       " 'hasattr',\n",
       " 'hash',\n",
       " 'help',\n",
       " 'hex',\n",
       " 'id',\n",
       " 'input',\n",
       " 'int',\n",
       " 'isinstance',\n",
       " 'issubclass',\n",
       " 'iter',\n",
       " 'len',\n",
       " 'license',\n",
       " 'list',\n",
       " 'locals',\n",
       " 'map',\n",
       " 'max',\n",
       " 'memoryview',\n",
       " 'min',\n",
       " 'next',\n",
       " 'object',\n",
       " 'oct',\n",
       " 'open',\n",
       " 'ord',\n",
       " 'pow',\n",
       " 'print',\n",
       " 'property',\n",
       " 'range',\n",
       " 'repr',\n",
       " 'reversed',\n",
       " 'round',\n",
       " 'runfile',\n",
       " 'set',\n",
       " 'setattr',\n",
       " 'slice',\n",
       " 'sorted',\n",
       " 'staticmethod',\n",
       " 'str',\n",
       " 'sum',\n",
       " 'super',\n",
       " 'tuple',\n",
       " 'type',\n",
       " 'vars',\n",
       " 'zip']"
      ]
     },
     "execution_count": 7,
     "metadata": {},
     "output_type": "execute_result"
    }
   ],
   "source": [
    "dir(__builtins__)"
   ]
  },
  {
   "cell_type": "code",
   "execution_count": 9,
   "id": "e3574536-505a-428d-9aad-4366a7d75acd",
   "metadata": {},
   "outputs": [
    {
     "data": {
      "text/plain": [
       "6"
      ]
     },
     "execution_count": 9,
     "metadata": {},
     "output_type": "execute_result"
    }
   ],
   "source": [
    "max(1, 3, 5, 6)"
   ]
  },
  {
   "cell_type": "code",
   "execution_count": 23,
   "id": "927182c3-cc01-450d-8927-7b2340362101",
   "metadata": {},
   "outputs": [],
   "source": [
    "# 두개의 정수를 받아서 큰 수를 출력\n",
    "def my_max(num1, num2):\n",
    "    if num1 > num2:\n",
    "        print(num1)\n",
    "    elif num1 < num2:\n",
    "        print(num2)\n",
    "    else:\n",
    "        print('같습니다')\n",
    "        \n",
    "    # return none이라는 함수를 파이썬이 자동으로 넣어줌"
   ]
  },
  {
   "cell_type": "code",
   "execution_count": 22,
   "id": "fe3e0d57-13bc-4d44-a3bb-2736b595709d",
   "metadata": {},
   "outputs": [
    {
     "name": "stdout",
     "output_type": "stream",
     "text": [
      "2\n",
      "None\n"
     ]
    }
   ],
   "source": [
    "a = my_max(1,2) #num1 = 1, num2 = 2\n",
    "print(a)"
   ]
  },
  {
   "cell_type": "markdown",
   "id": "41e34aff-bcd6-41e8-b414-863f3a77cf8b",
   "metadata": {},
   "source": [
    "## 함수의 return  ```return을 무조건 만나야만 '함수의 결과'로서 역할을 함```\n",
    "- 함수가 return을 만나면 해당 값을 반환하고 함수를 종료\n",
    "- 만약 return이 없다면 None을 자동으로 반환\n",
    "- return은 오직 하나의 객체만 반환합니다"
   ]
  },
  {
   "cell_type": "code",
   "execution_count": 18,
   "id": "abec2f4a-d889-4897-8247-80d879461c04",
   "metadata": {},
   "outputs": [],
   "source": [
    "def my_max2(num1, num2):\n",
    "    # return 'hello'\n",
    "    \n",
    "    if num1 > num2:\n",
    "        return num1  #return은 함수의 결과라는 뜻\n",
    "    elif num1 < num2:\n",
    "        return num2\n",
    "    else:\n",
    "        return num1"
   ]
  },
  {
   "cell_type": "code",
   "execution_count": 32,
   "id": "f52c7d45-b406-4d65-9914-c75ee43cd72d",
   "metadata": {},
   "outputs": [
    {
     "name": "stdout",
     "output_type": "stream",
     "text": [
      "2\n"
     ]
    }
   ],
   "source": [
    "a = my_max2(1,2)\n",
    "print(a)"
   ]
  },
  {
   "cell_type": "code",
   "execution_count": 30,
   "id": "d9464625-8f51-45d0-848b-6fba50830c2f",
   "metadata": {},
   "outputs": [],
   "source": [
    "def my_list_max(list1, list2):\n",
    "    \n",
    "    if sum(list1) > sum(list2):\n",
    "        return list1\n",
    "    else:\n",
    "        return list2"
   ]
  },
  {
   "cell_type": "code",
   "execution_count": 31,
   "id": "bd682490-da2c-4fcd-b0a6-e18916097d72",
   "metadata": {},
   "outputs": [
    {
     "data": {
      "text/plain": [
       "[5, 8, 9]"
      ]
     },
     "execution_count": 31,
     "metadata": {},
     "output_type": "execute_result"
    }
   ],
   "source": [
    "my_list_max([1, 2, 3], [5, 8, 9])"
   ]
  },
  {
   "cell_type": "code",
   "execution_count": 33,
   "id": "5ab070ac-3e83-4d83-a82b-dc25c0a6371c",
   "metadata": {},
   "outputs": [],
   "source": [
    "def my_def(x):\n",
    "    return x * 2"
   ]
  },
  {
   "cell_type": "code",
   "execution_count": 35,
   "id": "f0979eea-39ec-4b16-aeb9-d340ac92aaa4",
   "metadata": {},
   "outputs": [
    {
     "name": "stdout",
     "output_type": "stream",
     "text": [
      "10\n"
     ]
    }
   ],
   "source": [
    "a = my_def(5)\n",
    "print(a)"
   ]
  },
  {
   "cell_type": "code",
   "execution_count": 40,
   "id": "9ae310ae-56fb-4952-b639-17086d562122",
   "metadata": {},
   "outputs": [],
   "source": [
    "def my_def2(x):\n",
    "    print(x * 2) \n",
    "    #return none이 되어있음"
   ]
  },
  {
   "cell_type": "code",
   "execution_count": 41,
   "id": "1f919f0b-33a9-4138-951e-472dfe59e09f",
   "metadata": {},
   "outputs": [
    {
     "name": "stdout",
     "output_type": "stream",
     "text": [
      "10\n",
      "None\n"
     ]
    }
   ],
   "source": [
    "a = my_def2(5)\n",
    "print(a)  #print는 값을 재활용할 수가 없음"
   ]
  },
  {
   "cell_type": "markdown",
   "id": "d825cc3f-1c00-496a-ac3b-adc630ee6ae7",
   "metadata": {},
   "source": [
    "### 함수의 인수"
   ]
  },
  {
   "cell_type": "markdown",
   "id": "2ebdfedf-36fb-4c78-963b-69676d70d03f",
   "metadata": {},
   "source": [
    "### 위치인수\n",
    "기본적으로 함수는 인수의 위치로 판단합니다"
   ]
  },
  {
   "cell_type": "code",
   "execution_count": 42,
   "id": "cb9c38b7-dafd-44d4-bbe6-2d3a8c09a32f",
   "metadata": {},
   "outputs": [],
   "source": [
    "def cylinder(r,h):\n",
    "    return 3.14 * r**2 * h "
   ]
  },
  {
   "cell_type": "code",
   "execution_count": 45,
   "id": "d898cbb9-07c5-4ba5-a7c0-1dd1a0143c5f",
   "metadata": {},
   "outputs": [
    {
     "name": "stdout",
     "output_type": "stream",
     "text": [
      "1570.0\n",
      "785.0\n"
     ]
    }
   ],
   "source": [
    "print(cylinder(10, 5))\n",
    "print(cylinder(5, 10))"
   ]
  },
  {
   "cell_type": "markdown",
   "id": "30ebb19c-00d9-423a-9f51-615422ab7ccc",
   "metadata": {},
   "source": [
    "### 기본값\n",
    "\n",
    "```python\n",
    "def func(p1=v1):\n",
    "    code...\n",
    "    return p1\n",
    "```"
   ]
  },
  {
   "cell_type": "code",
   "execution_count": 51,
   "id": "27ed6584-2a9e-4375-80b0-3996fbb61ebc",
   "metadata": {},
   "outputs": [],
   "source": [
    "def greeting(name='익명'): #사용자가 값을 안넣을시 '익명'을 기본값으로 함\n",
    "    return f'{name}님 안녕하세요!'"
   ]
  },
  {
   "cell_type": "code",
   "execution_count": 47,
   "id": "7dab087f-b902-418a-9e31-4cd4718a9383",
   "metadata": {},
   "outputs": [
    {
     "data": {
      "text/plain": [
       "'호진님 안녕하세요!'"
      ]
     },
     "execution_count": 47,
     "metadata": {},
     "output_type": "execute_result"
    }
   ],
   "source": [
    "greeting('호진')"
   ]
  },
  {
   "cell_type": "code",
   "execution_count": 50,
   "id": "3f1458cb-1e92-4021-8ef7-b61c8283a027",
   "metadata": {},
   "outputs": [
    {
     "data": {
      "text/plain": [
       "'익명님 안녕하세요!'"
      ]
     },
     "execution_count": 50,
     "metadata": {},
     "output_type": "execute_result"
    }
   ],
   "source": [
    "greeting()"
   ]
  },
  {
   "cell_type": "code",
   "execution_count": 53,
   "id": "be306f36-ec2e-4f71-979e-2bb22f62efd2",
   "metadata": {},
   "outputs": [
    {
     "name": "stdout",
     "output_type": "stream",
     "text": [
      "hello!world\n"
     ]
    }
   ],
   "source": [
    "print('hello', 'world', sep='!')"
   ]
  },
  {
   "cell_type": "code",
   "execution_count": 54,
   "id": "b0c83b99-25c1-43da-8334-2c9afeb9015e",
   "metadata": {},
   "outputs": [
    {
     "ename": "SyntaxError",
     "evalue": "non-default argument follows default argument (3951438444.py, line 1)",
     "output_type": "error",
     "traceback": [
      "\u001b[1;36m  Cell \u001b[1;32mIn[54], line 1\u001b[1;36m\u001b[0m\n\u001b[1;33m    def greeting(name='익명', age):\u001b[0m\n\u001b[1;37m                            ^\u001b[0m\n\u001b[1;31mSyntaxError\u001b[0m\u001b[1;31m:\u001b[0m non-default argument follows default argument\n"
     ]
    }
   ],
   "source": [
    "def greeting(name='익명', age): \n",
    "    return f'{name}님은 {age}살입니다!'"
   ]
  },
  {
   "cell_type": "code",
   "execution_count": 57,
   "id": "7f46b9da-7ae9-4c09-bf21-76cf59839c73",
   "metadata": {},
   "outputs": [],
   "source": [
    "def greeting(age, name='익명'): ##기본값이 없는 인자를 먼저 작성해주어야함\n",
    "    return f'{name}님은 {age}살입니다!'"
   ]
  },
  {
   "cell_type": "code",
   "execution_count": 59,
   "id": "d3a37ec4-9cfb-4a05-9d23-9d4ebe68924a",
   "metadata": {},
   "outputs": [
    {
     "data": {
      "text/plain": [
       "'익명님은 50살입니다!'"
      ]
     },
     "execution_count": 59,
     "metadata": {},
     "output_type": "execute_result"
    }
   ],
   "source": [
    "greeting(50, '홍길동')\n",
    "greeting(50)"
   ]
  },
  {
   "cell_type": "markdown",
   "id": "750bbf65-6b20-458f-b230-1f51d96c2a56",
   "metadata": {},
   "source": [
    "### 키워드 인자\n",
    "함수를 호출(실행)할 때 내가 원하는 위치에 직접적으로 특정인자를 전달 가능"
   ]
  },
  {
   "cell_type": "code",
   "execution_count": 60,
   "id": "29cb3fc9-7483-4a22-ba36-dd52b478c346",
   "metadata": {},
   "outputs": [],
   "source": [
    "def greeting(age, name='익명'): \n",
    "    return f'{name}님은 {age}살입니다!'"
   ]
  },
  {
   "cell_type": "code",
   "execution_count": 62,
   "id": "9cafdc3b-7c6c-4502-806a-88210cb8b386",
   "metadata": {},
   "outputs": [
    {
     "name": "stdout",
     "output_type": "stream",
     "text": [
      "익명님은 50살입니다!\n",
      "홍길동님은 50살입니다!\n",
      "홍길동님은 30살입니다!\n"
     ]
    }
   ],
   "source": [
    "print(greeting(50))\n",
    "print(greeting(50, '홍길동'))\n",
    "print(greeting(name='홍길동', age=30))\n"
   ]
  },
  {
   "cell_type": "markdown",
   "id": "58038096-2df6-4832-9bce-6ae1449ff88d",
   "metadata": {},
   "source": [
    "### 가변 인자 리스트\n",
    "```python\n",
    "def func(*parms):\n",
    "    code\n",
    "    ...\n",
    "```"
   ]
  },
  {
   "cell_type": "code",
   "execution_count": 84,
   "id": "4c791616-ecf2-48dd-a455-c6a47f6044f7",
   "metadata": {},
   "outputs": [],
   "source": [
    "def my_print(*words):  #*는 갯수가 정해지지않았을 때 사용\n",
    "    print(words)\n",
    "    print(type(words))"
   ]
  },
  {
   "cell_type": "code",
   "execution_count": 67,
   "id": "77a93785-eab0-4f71-8d50-58f3032376b1",
   "metadata": {},
   "outputs": [
    {
     "name": "stdout",
     "output_type": "stream",
     "text": [
      "('a', 'b', 'c', 'd')\n",
      "<class 'tuple'>\n"
     ]
    }
   ],
   "source": [
    "my_print('a', 'b', 'c', 'd')"
   ]
  },
  {
   "cell_type": "code",
   "execution_count": 69,
   "id": "bfabcf1c-f6a0-4aec-bfc6-2e497323e61b",
   "metadata": {},
   "outputs": [
    {
     "name": "stdout",
     "output_type": "stream",
     "text": [
      "a b c d 공간\n",
      "a공간b공간c공간d\n"
     ]
    }
   ],
   "source": [
    "print('a', 'b', 'c', 'd', '공간')\n",
    "print('a', 'b', 'c', 'd', sep='공간')"
   ]
  },
  {
   "cell_type": "code",
   "execution_count": 70,
   "id": "8f6bbb9d-25d9-4dc8-b18f-42d368c76b5e",
   "metadata": {},
   "outputs": [
    {
     "data": {
      "text/plain": [
       "7"
      ]
     },
     "execution_count": 70,
     "metadata": {},
     "output_type": "execute_result"
    }
   ],
   "source": [
    "max(1, 2, 3, 4, 5, 6, 7)"
   ]
  },
  {
   "cell_type": "code",
   "execution_count": 101,
   "id": "9ceabb21-103e-4c37-a12a-6c48ad6b1405",
   "metadata": {},
   "outputs": [],
   "source": [
    "# 여러개의 숫자를 받아 그중 가장 큰수를 리턴 \n",
    "def my_max(*numbers):\n",
    "     result = numbers[0]\n",
    "    \n",
    "     for number in numbers:\n",
    "         if result < number:\n",
    "             result = number\n",
    "\n",
    "     return result"
   ]
  },
  {
   "cell_type": "code",
   "execution_count": 102,
   "id": "754ef707-13e2-4fe1-9f44-683dffa53b0b",
   "metadata": {},
   "outputs": [
    {
     "name": "stdout",
     "output_type": "stream",
     "text": [
      "100\n",
      "-1\n"
     ]
    }
   ],
   "source": [
    "print(my_max(1, 2, 3, 4, 5, 6 , 100))\n",
    "print(my_max(-1, -2, -3))"
   ]
  },
  {
   "cell_type": "markdown",
   "id": "e008058e-a045-4a61-b5ae-e66611c73fb6",
   "metadata": {},
   "source": [
    "### 정의되지않은 키워드 인자 처리하기\n",
    "```python\n",
    "def func(**kwergs):  # 몇개의 어떤 key,value가 들어올 지 모를 때 쓴다\n",
    "    code\n",
    "```"
   ]
  },
  {
   "cell_type": "code",
   "execution_count": 103,
   "id": "6d43398d-0797-41e6-ba9f-5ff41c9653df",
   "metadata": {},
   "outputs": [
    {
     "name": "stdout",
     "output_type": "stream",
     "text": [
      "{'name': 'hong', 'age': 10}\n"
     ]
    }
   ],
   "source": [
    "info = {\n",
    "    'name' : 'hong',\n",
    "    'age' : 10,\n",
    "}\n",
    "print(info)"
   ]
  },
  {
   "cell_type": "code",
   "execution_count": 104,
   "id": "f29dac2e-bf88-4436-bf52-1deb3188b728",
   "metadata": {},
   "outputs": [
    {
     "name": "stdout",
     "output_type": "stream",
     "text": [
      "{'name': 'hong', 'age': 10}\n"
     ]
    }
   ],
   "source": [
    "dict(name='hong', age=20)\n",
    "print(info)"
   ]
  },
  {
   "cell_type": "code",
   "execution_count": 108,
   "id": "cf0f9574-6ad9-4b05-9dea-1338f0a6253b",
   "metadata": {},
   "outputs": [],
   "source": [
    "def fake_dict(**kwargs):\n",
    "    for key, value in kwargs.items():\n",
    "        print(f'{key}는 {value}입니다')"
   ]
  },
  {
   "cell_type": "code",
   "execution_count": 109,
   "id": "102eb1c1-959b-4247-a611-833a716386d8",
   "metadata": {},
   "outputs": [
    {
     "name": "stdout",
     "output_type": "stream",
     "text": [
      "a는 10입니다\n",
      "b는 20입니다\n"
     ]
    }
   ],
   "source": [
    "fake_dict(a=10, b=20)"
   ]
  },
  {
   "cell_type": "markdown",
   "id": "8ad4af5a-f4b3-470a-8b53-1fa54f5b01a5",
   "metadata": {},
   "source": [
    "### dictionary를 인자로 넣기(unpacking)"
   ]
  },
  {
   "cell_type": "code",
   "execution_count": 110,
   "id": "9fdeee1c-9fdb-43a2-bfd8-426083f3682e",
   "metadata": {},
   "outputs": [],
   "source": [
    "def sign_up(id, pw, pw_confirmation):\n",
    "    if pw == pw_confirmation:\n",
    "        print(f'{id}님 회원가입이 완료되었습니다.')\n",
    "    else: \n",
    "        print('비밀번호가 일치하지 않습니다.')"
   ]
  },
  {
   "cell_type": "code",
   "execution_count": 111,
   "id": "63c86e20-b0e4-45d6-a7f1-8b411075bdf0",
   "metadata": {},
   "outputs": [
    {
     "name": "stdout",
     "output_type": "stream",
     "text": [
      "charge님 회원가입이 완료되었습니다.\n",
      "비밀번호가 일치하지 않습니다.\n"
     ]
    }
   ],
   "source": [
    "sign_up('charge', '1234', '1234')\n",
    "sign_up('charge', '1234', '12345')"
   ]
  },
  {
   "cell_type": "code",
   "execution_count": 114,
   "id": "ddb3f06b-072f-4562-8044-96f88d55e4da",
   "metadata": {},
   "outputs": [
    {
     "name": "stdout",
     "output_type": "stream",
     "text": [
      "change님 회원가입이 완료되었습니다.\n"
     ]
    }
   ],
   "source": [
    "account = {\n",
    "    'id' : 'change',\n",
    "    'pw' : '1234',\n",
    "    'pw_confirmation' : '1234',\n",
    "}\n",
    "sign_up(**account)"
   ]
  },
  {
   "cell_type": "markdown",
   "id": "d27b8da4-f780-4b94-b22e-662ef621c500",
   "metadata": {},
   "source": [
    "### lambda 표현식\n",
    "#### 인자를 함수를로 넘겨야할때 주로 사용, 이름없는 일회용함수 \n",
    "```python\n",
    "lambda parameter: expression\n",
    "```"
   ]
  },
  {
   "cell_type": "code",
   "execution_count": 117,
   "id": "e8852080-809f-40f6-b7c9-ea90090569e2",
   "metadata": {},
   "outputs": [
    {
     "data": {
      "text/plain": [
       "3"
      ]
     },
     "execution_count": 117,
     "metadata": {},
     "output_type": "execute_result"
    }
   ],
   "source": [
    "(lambda x, y: x + y)(1, 2)"
   ]
  },
  {
   "cell_type": "code",
   "execution_count": 116,
   "id": "5c2d5961-7cdf-41d2-b3f3-285401e7daec",
   "metadata": {},
   "outputs": [
    {
     "data": {
      "text/plain": [
       "3"
      ]
     },
     "execution_count": 116,
     "metadata": {},
     "output_type": "execute_result"
    }
   ],
   "source": [
    "def my_sum(x, y):\n",
    "    return x + y\n",
    "\n",
    "my_sum(1, 2)"
   ]
  },
  {
   "cell_type": "markdown",
   "id": "1b7cc98b-6553-42ed-bcc5-b5a417a2d7ec",
   "metadata": {},
   "source": [
    "### 타입힌트"
   ]
  },
  {
   "cell_type": "code",
   "execution_count": 118,
   "id": "dabb4ec5-1e08-4d84-aaad-197476a52621",
   "metadata": {},
   "outputs": [],
   "source": [
    "def my_sum(a: int, b: int) -> int:\n",
    "    return a + b"
   ]
  },
  {
   "cell_type": "code",
   "execution_count": null,
   "id": "5a94fda6-2fc0-4e58-b34d-7086169db26c",
   "metadata": {},
   "outputs": [],
   "source": [
    "my_sum(1, 2)"
   ]
  },
  {
   "cell_type": "markdown",
   "id": "238043be-ed69-4d8e-91f8-fb6331fb21cf",
   "metadata": {},
   "source": [
    "### 이름공간(scope)\n",
    "python에서 사용되는 이름들은 이름공간(namespace)에 저장되어 있습니다.\n",
    "\n",
    "- Local scope : 정의된 함수 내부\n",
    "- Enclosed scope : 상위 함수\n",
    "- Global scope : 함수 밖의 변수 혹은 import된 모듈\n",
    "- Built-in scope : python이 기본적으로 가지고 있는 함수 혹은 변수"
   ]
  },
  {
   "cell_type": "code",
   "execution_count": 119,
   "id": "61054162-38a8-4c0a-a1df-c8a2ca384823",
   "metadata": {},
   "outputs": [],
   "source": [
    "str = '123'"
   ]
  },
  {
   "cell_type": "code",
   "execution_count": 120,
   "id": "bf8af281-dc38-40ab-91ec-b8d296e05071",
   "metadata": {},
   "outputs": [
    {
     "name": "stdout",
     "output_type": "stream",
     "text": [
      "123\n"
     ]
    }
   ],
   "source": [
    "print(str)"
   ]
  },
  {
   "cell_type": "code",
   "execution_count": 126,
   "id": "c3487faa-5a59-445f-b587-2dd8bd7a827e",
   "metadata": {},
   "outputs": [
    {
     "data": {
      "text/plain": [
       "'123'"
      ]
     },
     "execution_count": 126,
     "metadata": {},
     "output_type": "execute_result"
    }
   ],
   "source": [
    "str(123)"
   ]
  },
  {
   "cell_type": "code",
   "execution_count": 125,
   "id": "2a42d4dd-2663-4816-aa2c-71464025cb97",
   "metadata": {},
   "outputs": [
    {
     "ename": "NameError",
     "evalue": "name 'str' is not defined",
     "output_type": "error",
     "traceback": [
      "\u001b[1;31m---------------------------------------------------------------------------\u001b[0m",
      "\u001b[1;31mNameError\u001b[0m                                 Traceback (most recent call last)",
      "Cell \u001b[1;32mIn[125], line 1\u001b[0m\n\u001b[1;32m----> 1\u001b[0m \u001b[38;5;28;01mdel\u001b[39;00m \u001b[38;5;28;43mstr\u001b[39;49m \u001b[38;5;66;03m#위의 str이라는 변수 상자를 지움\u001b[39;00m\n",
      "\u001b[1;31mNameError\u001b[0m: name 'str' is not defined"
     ]
    }
   ],
   "source": [
    "del str #위의 str이라는 변수 상자를 지움"
   ]
  },
  {
   "cell_type": "code",
   "execution_count": 129,
   "id": "8afbcedd-aeee-4c55-90f3-cc1d54cf4223",
   "metadata": {},
   "outputs": [
    {
     "name": "stdout",
     "output_type": "stream",
     "text": [
      "5\n",
      "1\n"
     ]
    }
   ],
   "source": [
    "a = 1\n",
    "\n",
    "def local_scope(a):\n",
    "    # a = 5\n",
    "    print(a)\n",
    "\n",
    "local_scope(5)\n",
    "print(a)"
   ]
  },
  {
   "cell_type": "code",
   "execution_count": null,
   "id": "cef0175a-d7f7-4245-b27e-4b98dc79d59c",
   "metadata": {},
   "outputs": [],
   "source": [
    "a = 10\n",
    "\n",
    "def global_scope():\n",
    "    global a\n",
    "    print(a)\n",
    "\n",
    "global_scope()"
   ]
  },
  {
   "cell_type": "markdown",
   "id": "7a345627-31df-40be-9668-84d2896f29ce",
   "metadata": {},
   "source": [
    "### 재귀(recursive)\n",
    "재귀함수는 함수 내부에서 자기 자신을 호출하는 함수를 의미한다."
   ]
  },
  {
   "cell_type": "code",
   "execution_count": 3,
   "id": "ca6a6a92-8307-46f9-9edf-6b080fe7a76d",
   "metadata": {},
   "outputs": [
    {
     "name": "stdout",
     "output_type": "stream",
     "text": [
      "120\n"
     ]
    }
   ],
   "source": [
    "# 팩토리얼 (n! =1 * 2 * 3 *....* n ) \n",
    "def fact(n):\n",
    "    result = 1\n",
    "\n",
    "    while n > 1:\n",
    "        result = result * n\n",
    "        # result *= n\n",
    "        n = n - 1\n",
    "\n",
    "    return result\n",
    "    \n",
    "print(fact(5))"
   ]
  },
  {
   "cell_type": "code",
   "execution_count": 2,
   "id": "f03cebf6-3aa1-42b6-8eae-1d3f668346b3",
   "metadata": {},
   "outputs": [
    {
     "ename": "SyntaxError",
     "evalue": "invalid syntax (1628185763.py, line 1)",
     "output_type": "error",
     "traceback": [
      "\u001b[1;36m  Cell \u001b[1;32mIn[2], line 1\u001b[1;36m\u001b[0m\n\u001b[1;33m    n! = 1 * 2 * 3 * 4 * ....n-1 * n\u001b[0m\n\u001b[1;37m     ^\u001b[0m\n\u001b[1;31mSyntaxError\u001b[0m\u001b[1;31m:\u001b[0m invalid syntax\n"
     ]
    }
   ],
   "source": [
    "n! = 1 * 2 * 3 * 4 * ....n-1 * n\n",
    "\n",
    "- 1! = 1\n",
    "- 2! = 1 * 2 = 1! * 2\n",
    "- 3! = 1 * 2 * 3 = 2! * 3"
   ]
  },
  {
   "cell_type": "code",
   "execution_count": 1,
   "id": "2492fe10-cf98-43c9-aa3c-3804f89fe9b4",
   "metadata": {},
   "outputs": [
    {
     "name": "stdout",
     "output_type": "stream",
     "text": [
      "120\n"
     ]
    }
   ],
   "source": [
    "def factorial(n):\n",
    "    if n <= 1:\n",
    "        return 1\n",
    "    else:\n",
    "        return factorial(n-1) * n\n",
    "\n",
    "print(factorial(5))"
   ]
  },
  {
   "cell_type": "markdown",
   "id": "217eb661-bbac-4631-9439-2c7fef3cb740",
   "metadata": {},
   "source": [
    "#### 피보나치 수열\n",
    "- F(0) = F(1) = 1\n",
    "- F(N) = F(n-1) + F(n-2)"
   ]
  },
  {
   "cell_type": "code",
   "execution_count": 4,
   "id": "60475237-a483-485e-ad09-57b0ab9fc6a2",
   "metadata": {},
   "outputs": [
    {
     "name": "stdout",
     "output_type": "stream",
     "text": [
      "89\n"
     ]
    }
   ],
   "source": [
    "# 반복문\n",
    "def fib_loop(n):\n",
    "    result = [1,1]\n",
    "\n",
    "    for i in range(1,n):\n",
    "        end1 = result[-1]\n",
    "        end2 = result[-2]\n",
    "\n",
    "        fib_num = end1 + end2\n",
    "\n",
    "        result.append(fib_num)\n",
    "\n",
    "    return result[-1]\n",
    "\n",
    "print(fib_loop(10))\n",
    "    "
   ]
  },
  {
   "cell_type": "code",
   "execution_count": 6,
   "id": "815943c4-7738-4bd5-9096-ef235379694a",
   "metadata": {},
   "outputs": [
    {
     "name": "stdout",
     "output_type": "stream",
     "text": [
      "89\n"
     ]
    }
   ],
   "source": [
    "# 재귀\n",
    "def fib_rec(n):\n",
    "    if n == 0 or n ==1:\n",
    "        return 1\n",
    "    else:\n",
    "        return fib_rec(n-1) + fib_rec(n-2)\n",
    "\n",
    "print(fib_rec(10))"
   ]
  },
  {
   "cell_type": "code",
   "execution_count": null,
   "id": "02742d8b-6c9b-4dc6-82b9-b519ba6fe263",
   "metadata": {},
   "outputs": [],
   "source": []
  },
  {
   "cell_type": "code",
   "execution_count": null,
   "id": "ee7f0b0c-98d7-42bd-8da2-30d3e5bc236e",
   "metadata": {},
   "outputs": [],
   "source": []
  },
  {
   "cell_type": "code",
   "execution_count": null,
   "id": "025e6cc7-22c8-4501-9709-efdd2aa775b1",
   "metadata": {},
   "outputs": [],
   "source": []
  },
  {
   "cell_type": "code",
   "execution_count": null,
   "id": "c71acc8c-66fa-4c05-a4b4-a36b1b597921",
   "metadata": {},
   "outputs": [],
   "source": []
  },
  {
   "cell_type": "code",
   "execution_count": null,
   "id": "2500099e-c846-4e6b-ad00-e6f7057c2977",
   "metadata": {},
   "outputs": [],
   "source": []
  }
 ],
 "metadata": {
  "kernelspec": {
   "display_name": "Python 3 (ipykernel)",
   "language": "python",
   "name": "python3"
  },
  "language_info": {
   "codemirror_mode": {
    "name": "ipython",
    "version": 3
   },
   "file_extension": ".py",
   "mimetype": "text/x-python",
   "name": "python",
   "nbconvert_exporter": "python",
   "pygments_lexer": "ipython3",
   "version": "3.11.5"
  }
 },
 "nbformat": 4,
 "nbformat_minor": 5
}
